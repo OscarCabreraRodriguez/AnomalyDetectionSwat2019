{
 "cells": [
  {
   "cell_type": "code",
   "execution_count": 1,
   "id": "eefaa5fc",
   "metadata": {},
   "outputs": [
    {
     "name": "stdout",
     "output_type": "stream",
     "text": [
      "Collecting kafka-python\n",
      "\u001b[33m  WARNING: Retrying (Retry(total=4, connect=None, read=None, redirect=None, status=None)) after connection broken by 'ReadTimeoutError(\"HTTPSConnectionPool(host='files.pythonhosted.org', port=443): Read timed out. (read timeout=15)\")': /packages/75/68/dcb0db055309f680ab2931a3eeb22d865604b638acf8c914bedf4c1a0c8c/kafka_python-2.0.2-py2.py3-none-any.whl\u001b[0m\n",
      "\u001b[33m  WARNING: Retrying (Retry(total=3, connect=None, read=None, redirect=None, status=None)) after connection broken by 'SSLError(SSLEOFError(8, 'EOF occurred in violation of protocol (_ssl.c:1123)'))': /packages/75/68/dcb0db055309f680ab2931a3eeb22d865604b638acf8c914bedf4c1a0c8c/kafka_python-2.0.2-py2.py3-none-any.whl\u001b[0m\n",
      "  Downloading kafka_python-2.0.2-py2.py3-none-any.whl (246 kB)\n",
      "\u001b[K     |████████████████████████████████| 246 kB 1.8 MB/s eta 0:00:01\n",
      "\u001b[?25hInstalling collected packages: kafka-python\n",
      "Successfully installed kafka-python-2.0.2\n"
     ]
    }
   ],
   "source": [
    "!pip install kafka-python"
   ]
  },
  {
   "cell_type": "code",
   "execution_count": 49,
   "id": "0c2846e3",
   "metadata": {},
   "outputs": [],
   "source": [
    "from kafka import KafkaProducer\n",
    "from time import sleep\n",
    "import json\n",
    "import pandas as pd\n",
    "from tqdm import tqdm \n",
    "import datetime"
   ]
  },
  {
   "cell_type": "code",
   "execution_count": 51,
   "id": "21d8ac6e",
   "metadata": {},
   "outputs": [],
   "source": [
    "df = pd.read_csv('data.csv', parse_dates = ['GMT +0'])\n",
    "df['GMT +0'] = df['GMT +0'].dt.strftime('%Y-%m-%d %H:%M:%S')"
   ]
  },
  {
   "cell_type": "code",
   "execution_count": 43,
   "id": "cbfd2889",
   "metadata": {},
   "outputs": [],
   "source": [
    "def json_serializer(data):\n",
    "    return json.dumps(data).encode(\"utf-8\")"
   ]
  },
  {
   "cell_type": "code",
   "execution_count": 122,
   "id": "4a10f89f",
   "metadata": {},
   "outputs": [],
   "source": [
    "producer = KafkaProducer (bootstrap_servers=\"kafka-server:9092\",\n",
    "#                           value_serializer=json_serializer,\n",
    "#                           value_serializer=lambda v: json.dumps(v.encode('utf-8')),\n",
    "                          api_version=(0,10,1)) "
   ]
  },
  {
   "cell_type": "code",
   "execution_count": 124,
   "id": "516cf174",
   "metadata": {},
   "outputs": [
    {
     "name": "stderr",
     "output_type": "stream",
     "text": [
      "100%|██████████| 3/3 [00:00<00:00, 357.59it/s]"
     ]
    },
    {
     "name": "stdout",
     "output_type": "stream",
     "text": [
      "b'{\"GMT +0\":\"2019-07-20 08:39:59\",\"FIT 101\":4.32373571,\"LIT 101\":492.896881,\"MV 101\":2,\"P1_STATE\":2,\"P101 Status\":2,\"P102 Status\":1,\"AIT 201\":131.408615,\"AIT 202\":9.313829,\"AIT 203\":257.933868,\"FIT 201\":2.31365132,\"LS 201\":\"Inactive\",\"LS 202\":\"Inactive\",\"LSL 203\":\"Inactive\",\"LSLL 203\":\"Inactive\",\"MV201\":2,\"P2_STATE\":2,\"P201 Status\":1,\"P202 Status\":1,\"P203 Status\":2,\"P204 Status\":1,\"P205 Status\":2,\"P206 Status\":1,\"P207 Status\":1,\"P208 Status\":1,\"AIT 301\":8.744734,\"AIT 302\":273.103271,\"AIT 303\":134.227539,\"DPIT 301\":12.2222929,\"FIT 301\":1.71937346,\"LIT 301\":883.908,\"MV 301\":1,\"MV 302\":2,\"MV 303\":1,\"MV 304\":1,\"P3_STATE\":7,\"P301 Status\":2,\"P302 Status\":1,\"AIT 401\":0,\"AIT 402\":3.74263,\"FIT 401\":0.807990253,\"LIT 401\":962.83,\"LS 401\":\"Inactive\",\"P4_STATE\":4,\"P401 Status\":2,\"P402 Status\":1,\"P403 Status\":1,\"P404 Status\":1,\"UV401\":2,\"AIT 501\":7.76582956,\"AIT 502\":63.7528839,\"AIT 503\":1016.21381,\"AIT 504\":24.8397846,\"FIT 501\":0.808126152,\"FIT 502\":0.363007575,\"FIT 503\":0.6059598,\"FIT 504\":0.20990935,\"MV 501\":2,\"MV 502\":2,\"MV 503\":1,\"MV 504\":1,\"P5_STATE\":12,\"P501 Status\":2,\"P502 Status\":1,\"PIT 501\":158.8535,\"PIT 502\":2.49895883,\"PIT 503\":113.784927,\"FIT 601\":0.000320379,\"LSH 601\":\"Active\",\"LSH 602\":\"Active\",\"LSH 603\":\"Inactive\",\"LSL 601\":\"Inactive\",\"LSL 602\":\"Inactive\",\"LSL 603\":\"Active\",\"P6 STATE\":2,\"P601 Status\":1,\"P602 Status\":1,\"P603 Status\":1}'\n",
      "b'{\"GMT +0\":\"2019-07-20 08:39:58\",\"FIT 101\":4.32373571,\"LIT 101\":492.4651,\"MV 101\":2,\"P1_STATE\":2,\"P101 Status\":2,\"P102 Status\":1,\"AIT 201\":131.408615,\"AIT 202\":9.316713,\"AIT 203\":257.703156,\"FIT 201\":2.31365132,\"LS 201\":\"Inactive\",\"LS 202\":\"Inactive\",\"LSL 203\":\"Inactive\",\"LSLL 203\":\"Inactive\",\"MV201\":2,\"P2_STATE\":2,\"P201 Status\":1,\"P202 Status\":1,\"P203 Status\":2,\"P204 Status\":1,\"P205 Status\":2,\"P206 Status\":1,\"P207 Status\":1,\"P208 Status\":1,\"AIT 301\":8.744734,\"AIT 302\":273.103271,\"AIT 303\":134.227539,\"DPIT 301\":12.2222929,\"FIT 301\":1.71937346,\"LIT 301\":883.908,\"MV 301\":1,\"MV 302\":2,\"MV 303\":1,\"MV 304\":1,\"P3_STATE\":7,\"P301 Status\":2,\"P302 Status\":1,\"AIT 401\":0,\"AIT 402\":3.74263,\"FIT 401\":0.8086305,\"LIT 401\":962.445557,\"LS 401\":\"Inactive\",\"P4_STATE\":4,\"P401 Status\":2,\"P402 Status\":1,\"P403 Status\":1,\"P404 Status\":1,\"UV401\":2,\"AIT 501\":7.76582956,\"AIT 502\":63.7528839,\"AIT 503\":1016.21381,\"AIT 504\":24.8397846,\"FIT 501\":0.80953604,\"FIT 502\":0.357115418,\"FIT 503\":0.6059598,\"FIT 504\":0.20990935,\"MV 501\":2,\"MV 502\":2,\"MV 503\":1,\"MV 504\":1,\"P5_STATE\":12,\"P501 Status\":2,\"P502 Status\":1,\"PIT 501\":158.8535,\"PIT 502\":2.49895883,\"PIT 503\":113.784927,\"FIT 601\":0.000320379,\"LSH 601\":\"Active\",\"LSH 602\":\"Active\",\"LSH 603\":\"Inactive\",\"LSL 601\":\"Inactive\",\"LSL 602\":\"Inactive\",\"LSL 603\":\"Active\",\"P6 STATE\":2,\"P601 Status\":1,\"P602 Status\":1,\"P603 Status\":1}'\n",
      "b'{\"GMT +0\":\"2019-07-20 08:39:57\",\"FIT 101\":4.30355835,\"LIT 101\":492.3081,\"MV 101\":2,\"P1_STATE\":2,\"P101 Status\":2,\"P102 Status\":1,\"AIT 201\":131.408615,\"AIT 202\":9.317354,\"AIT 203\":257.703156,\"FIT 201\":2.31365132,\"LS 201\":\"Inactive\",\"LS 202\":\"Inactive\",\"LSL 203\":\"Inactive\",\"LSLL 203\":\"Inactive\",\"MV201\":2,\"P2_STATE\":2,\"P201 Status\":1,\"P202 Status\":1,\"P203 Status\":2,\"P204 Status\":1,\"P205 Status\":2,\"P206 Status\":1,\"P207 Status\":1,\"P208 Status\":1,\"AIT 301\":8.744734,\"AIT 302\":273.103271,\"AIT 303\":134.227539,\"DPIT 301\":12.2222929,\"FIT 301\":1.71937346,\"LIT 301\":883.387268,\"MV 301\":1,\"MV 302\":2,\"MV 303\":1,\"MV 304\":1,\"P3_STATE\":7,\"P301 Status\":2,\"P302 Status\":1,\"AIT 401\":0,\"AIT 402\":3.74263,\"FIT 401\":0.80927074,\"LIT 401\":962.637756,\"LS 401\":\"Inactive\",\"P4_STATE\":4,\"P401 Status\":2,\"P402 Status\":1,\"P403 Status\":1,\"P404 Status\":1,\"UV401\":2,\"AIT 501\":7.76582956,\"AIT 502\":63.7528839,\"AIT 503\":1016.21381,\"AIT 504\":24.8397846,\"FIT 501\":0.80953604,\"FIT 502\":0.369155884,\"FIT 503\":0.6059598,\"FIT 504\":0.20990935,\"MV 501\":2,\"MV 502\":2,\"MV 503\":1,\"MV 504\":1,\"P5_STATE\":12,\"P501 Status\":2,\"P502 Status\":1,\"PIT 501\":158.8535,\"PIT 502\":2.49895883,\"PIT 503\":113.784927,\"FIT 601\":0.000320379,\"LSH 601\":\"Active\",\"LSH 602\":\"Active\",\"LSH 603\":\"Inactive\",\"LSL 601\":\"Inactive\",\"LSL 602\":\"Inactive\",\"LSL 603\":\"Active\",\"P6 STATE\":2,\"P601 Status\":1,\"P602 Status\":1,\"P603 Status\":1}'\n"
     ]
    },
    {
     "name": "stderr",
     "output_type": "stream",
     "text": [
      "\n"
     ]
    }
   ],
   "source": [
    "for i in tqdm(range( 3 )): # len(df)\n",
    "    row = df.iloc[i].to_json()\n",
    "    print(bytes(row, 'utf-8'))\n",
    "    producer.send('swat_elte', value=bytes(row, 'utf-8') )\n",
    "#     print(row)\n",
    "#     sleep(1)\n",
    "# producer.send('swat_elte', value='stop' )"
   ]
  },
  {
   "cell_type": "code",
   "execution_count": null,
   "id": "51c0a7a2",
   "metadata": {},
   "outputs": [],
   "source": []
  }
 ],
 "metadata": {
  "kernelspec": {
   "display_name": "Python 3",
   "language": "python",
   "name": "python3"
  },
  "language_info": {
   "codemirror_mode": {
    "name": "ipython",
    "version": 3
   },
   "file_extension": ".py",
   "mimetype": "text/x-python",
   "name": "python",
   "nbconvert_exporter": "python",
   "pygments_lexer": "ipython3",
   "version": "3.9.4"
  }
 },
 "nbformat": 4,
 "nbformat_minor": 5
}
