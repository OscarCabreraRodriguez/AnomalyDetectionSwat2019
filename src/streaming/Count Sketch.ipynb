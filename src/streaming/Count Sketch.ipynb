{
 "cells": [
  {
   "cell_type": "code",
   "execution_count": 1,
   "id": "b04f711d-6634-4f19-8036-a6b9b03a3bcb",
   "metadata": {},
   "outputs": [
    {
     "name": "stdout",
     "output_type": "stream",
     "text": [
      "Requirement already satisfied: influxdb_client in /opt/conda/lib/python3.10/site-packages (1.34.0)\n",
      "Requirement already satisfied: influxdb in /opt/conda/lib/python3.10/site-packages (5.3.1)\n",
      "Requirement already satisfied: setuptools>=21.0.0 in /opt/conda/lib/python3.10/site-packages (from influxdb_client) (65.5.1)\n",
      "Requirement already satisfied: urllib3>=1.26.0 in /opt/conda/lib/python3.10/site-packages (from influxdb_client) (1.26.11)\n",
      "Requirement already satisfied: reactivex>=4.0.4 in /opt/conda/lib/python3.10/site-packages (from influxdb_client) (4.0.4)\n",
      "Requirement already satisfied: python-dateutil>=2.5.3 in /opt/conda/lib/python3.10/site-packages (from influxdb_client) (2.8.2)\n",
      "Requirement already satisfied: certifi>=14.05.14 in /opt/conda/lib/python3.10/site-packages (from influxdb_client) (2022.9.24)\n",
      "Requirement already satisfied: six>=1.10.0 in /opt/conda/lib/python3.10/site-packages (from influxdb) (1.16.0)\n",
      "Requirement already satisfied: pytz in /opt/conda/lib/python3.10/site-packages (from influxdb) (2022.6)\n",
      "Requirement already satisfied: requests>=2.17.0 in /opt/conda/lib/python3.10/site-packages (from influxdb) (2.28.1)\n",
      "Requirement already satisfied: msgpack in /opt/conda/lib/python3.10/site-packages (from influxdb) (1.0.4)\n",
      "Requirement already satisfied: typing-extensions<5.0.0,>=4.1.1 in /opt/conda/lib/python3.10/site-packages (from reactivex>=4.0.4->influxdb_client) (4.4.0)\n",
      "Requirement already satisfied: idna<4,>=2.5 in /opt/conda/lib/python3.10/site-packages (from requests>=2.17.0->influxdb) (3.4)\n",
      "Requirement already satisfied: charset-normalizer<3,>=2 in /opt/conda/lib/python3.10/site-packages (from requests>=2.17.0->influxdb) (2.1.1)\n"
     ]
    }
   ],
   "source": [
    "!pip install influxdb_client influxdb"
   ]
  },
  {
   "cell_type": "code",
   "execution_count": 2,
   "id": "49110289",
   "metadata": {},
   "outputs": [
    {
     "name": "stdout",
     "output_type": "stream",
     "text": [
      "Requirement already satisfied: pyspark in /usr/local/spark-3.3.1-bin-hadoop3/python (3.3.1)\n",
      "Requirement already satisfied: py4j==0.10.9.5 in /opt/conda/lib/python3.10/site-packages (from pyspark) (0.10.9.5)\n",
      "Note: you may need to restart the kernel to use updated packages.\n"
     ]
    }
   ],
   "source": [
    "pip install pyspark "
   ]
  },
  {
   "cell_type": "code",
   "execution_count": 3,
   "id": "57627473-8c2b-43b1-afca-7a4ff0dd1cb2",
   "metadata": {},
   "outputs": [],
   "source": [
    "from datetime import datetime\n",
    "from influxdb import DataFrameClient\n",
    "from influxdb_client import InfluxDBClient, Point, WritePrecision\n",
    "from influxdb_client.client.write_api import SYNCHRONOUS"
   ]
  },
  {
   "cell_type": "code",
   "execution_count": 4,
   "id": "892b8da7-ea6d-4330-ae52-ba5ca186957c",
   "metadata": {},
   "outputs": [
    {
     "data": {
      "text/html": [
       "<div>\n",
       "<style scoped>\n",
       "    .dataframe tbody tr th:only-of-type {\n",
       "        vertical-align: middle;\n",
       "    }\n",
       "\n",
       "    .dataframe tbody tr th {\n",
       "        vertical-align: top;\n",
       "    }\n",
       "\n",
       "    .dataframe thead th {\n",
       "        text-align: right;\n",
       "    }\n",
       "</style>\n",
       "<table border=\"1\" class=\"dataframe\">\n",
       "  <thead>\n",
       "    <tr style=\"text-align: right;\">\n",
       "      <th></th>\n",
       "      <th>GMT +0</th>\n",
       "      <th>FIT 101</th>\n",
       "      <th>LIT 101</th>\n",
       "      <th>MV 101</th>\n",
       "      <th>P1_STATE</th>\n",
       "      <th>P101 Status</th>\n",
       "      <th>P102 Status</th>\n",
       "      <th>AIT 201</th>\n",
       "      <th>AIT 202</th>\n",
       "      <th>AIT 203</th>\n",
       "      <th>...</th>\n",
       "      <th>LSH 601</th>\n",
       "      <th>LSH 602</th>\n",
       "      <th>LSH 603</th>\n",
       "      <th>LSL 601</th>\n",
       "      <th>LSL 602</th>\n",
       "      <th>LSL 603</th>\n",
       "      <th>P6 STATE</th>\n",
       "      <th>P601 Status</th>\n",
       "      <th>P602 Status</th>\n",
       "      <th>P603 Status</th>\n",
       "    </tr>\n",
       "  </thead>\n",
       "  <tbody>\n",
       "    <tr>\n",
       "      <th>0</th>\n",
       "      <td>2019-07-20 08:39:59.004013+00:00</td>\n",
       "      <td>4.323736</td>\n",
       "      <td>492.896881</td>\n",
       "      <td>2</td>\n",
       "      <td>2</td>\n",
       "      <td>2</td>\n",
       "      <td>1</td>\n",
       "      <td>131.408615</td>\n",
       "      <td>9.313829</td>\n",
       "      <td>257.933868</td>\n",
       "      <td>...</td>\n",
       "      <td>Active</td>\n",
       "      <td>Active</td>\n",
       "      <td>Inactive</td>\n",
       "      <td>Inactive</td>\n",
       "      <td>Inactive</td>\n",
       "      <td>Active</td>\n",
       "      <td>2</td>\n",
       "      <td>1</td>\n",
       "      <td>1</td>\n",
       "      <td>1</td>\n",
       "    </tr>\n",
       "    <tr>\n",
       "      <th>1</th>\n",
       "      <td>2019-07-20 08:39:58.005004800+00:00</td>\n",
       "      <td>4.323736</td>\n",
       "      <td>492.465100</td>\n",
       "      <td>2</td>\n",
       "      <td>2</td>\n",
       "      <td>2</td>\n",
       "      <td>1</td>\n",
       "      <td>131.408615</td>\n",
       "      <td>9.316713</td>\n",
       "      <td>257.703156</td>\n",
       "      <td>...</td>\n",
       "      <td>Active</td>\n",
       "      <td>Active</td>\n",
       "      <td>Inactive</td>\n",
       "      <td>Inactive</td>\n",
       "      <td>Inactive</td>\n",
       "      <td>Active</td>\n",
       "      <td>2</td>\n",
       "      <td>1</td>\n",
       "      <td>1</td>\n",
       "      <td>1</td>\n",
       "    </tr>\n",
       "    <tr>\n",
       "      <th>2</th>\n",
       "      <td>2019-07-20 08:39:57.005004800+00:00</td>\n",
       "      <td>4.303558</td>\n",
       "      <td>492.308100</td>\n",
       "      <td>2</td>\n",
       "      <td>2</td>\n",
       "      <td>2</td>\n",
       "      <td>1</td>\n",
       "      <td>131.408615</td>\n",
       "      <td>9.317354</td>\n",
       "      <td>257.703156</td>\n",
       "      <td>...</td>\n",
       "      <td>Active</td>\n",
       "      <td>Active</td>\n",
       "      <td>Inactive</td>\n",
       "      <td>Inactive</td>\n",
       "      <td>Inactive</td>\n",
       "      <td>Active</td>\n",
       "      <td>2</td>\n",
       "      <td>1</td>\n",
       "      <td>1</td>\n",
       "      <td>1</td>\n",
       "    </tr>\n",
       "    <tr>\n",
       "      <th>3</th>\n",
       "      <td>2019-07-20 08:39:56.005004800+00:00</td>\n",
       "      <td>4.253915</td>\n",
       "      <td>491.405273</td>\n",
       "      <td>2</td>\n",
       "      <td>2</td>\n",
       "      <td>2</td>\n",
       "      <td>1</td>\n",
       "      <td>131.408615</td>\n",
       "      <td>9.317354</td>\n",
       "      <td>257.703156</td>\n",
       "      <td>...</td>\n",
       "      <td>Active</td>\n",
       "      <td>Active</td>\n",
       "      <td>Inactive</td>\n",
       "      <td>Inactive</td>\n",
       "      <td>Inactive</td>\n",
       "      <td>Active</td>\n",
       "      <td>2</td>\n",
       "      <td>1</td>\n",
       "      <td>1</td>\n",
       "      <td>1</td>\n",
       "    </tr>\n",
       "    <tr>\n",
       "      <th>4</th>\n",
       "      <td>2019-07-20 08:39:55.001007+00:00</td>\n",
       "      <td>4.200429</td>\n",
       "      <td>491.169769</td>\n",
       "      <td>2</td>\n",
       "      <td>2</td>\n",
       "      <td>2</td>\n",
       "      <td>1</td>\n",
       "      <td>131.408615</td>\n",
       "      <td>9.319918</td>\n",
       "      <td>257.703156</td>\n",
       "      <td>...</td>\n",
       "      <td>Active</td>\n",
       "      <td>Active</td>\n",
       "      <td>Inactive</td>\n",
       "      <td>Inactive</td>\n",
       "      <td>Inactive</td>\n",
       "      <td>Active</td>\n",
       "      <td>2</td>\n",
       "      <td>1</td>\n",
       "      <td>1</td>\n",
       "      <td>1</td>\n",
       "    </tr>\n",
       "  </tbody>\n",
       "</table>\n",
       "<p>5 rows × 78 columns</p>\n",
       "</div>"
      ],
      "text/plain": [
       "                               GMT +0   FIT 101     LIT 101  MV 101  P1_STATE  \\\n",
       "0    2019-07-20 08:39:59.004013+00:00  4.323736  492.896881       2         2   \n",
       "1 2019-07-20 08:39:58.005004800+00:00  4.323736  492.465100       2         2   \n",
       "2 2019-07-20 08:39:57.005004800+00:00  4.303558  492.308100       2         2   \n",
       "3 2019-07-20 08:39:56.005004800+00:00  4.253915  491.405273       2         2   \n",
       "4    2019-07-20 08:39:55.001007+00:00  4.200429  491.169769       2         2   \n",
       "\n",
       "   P101 Status  P102 Status     AIT 201   AIT 202     AIT 203  ...  LSH 601  \\\n",
       "0            2            1  131.408615  9.313829  257.933868  ...   Active   \n",
       "1            2            1  131.408615  9.316713  257.703156  ...   Active   \n",
       "2            2            1  131.408615  9.317354  257.703156  ...   Active   \n",
       "3            2            1  131.408615  9.317354  257.703156  ...   Active   \n",
       "4            2            1  131.408615  9.319918  257.703156  ...   Active   \n",
       "\n",
       "  LSH 602   LSH 603   LSL 601   LSL 602  LSL 603  P6 STATE  P601 Status  \\\n",
       "0  Active  Inactive  Inactive  Inactive   Active         2            1   \n",
       "1  Active  Inactive  Inactive  Inactive   Active         2            1   \n",
       "2  Active  Inactive  Inactive  Inactive   Active         2            1   \n",
       "3  Active  Inactive  Inactive  Inactive   Active         2            1   \n",
       "4  Active  Inactive  Inactive  Inactive   Active         2            1   \n",
       "\n",
       "   P602 Status  P603 Status  \n",
       "0            1            1  \n",
       "1            1            1  \n",
       "2            1            1  \n",
       "3            1            1  \n",
       "4            1            1  \n",
       "\n",
       "[5 rows x 78 columns]"
      ]
     },
     "execution_count": 4,
     "metadata": {},
     "output_type": "execute_result"
    }
   ],
   "source": [
    "from pyspark.sql import SparkSession\n",
    "import numpy as np\n",
    "import pandas as pd\n",
    "spark = SparkSession.builder.appName(\"Test\").getOrCreate()\n",
    "df = pd.read_excel('SWaT_dataset_Jul 19 v2.xlsx', parse_dates = ['GMT +0'])\n",
    "\n",
    "df.head()\n",
    "#sdf = spark.createDataFrame(df) sdf.show()"
   ]
  },
  {
   "cell_type": "code",
   "execution_count": 5,
   "id": "149ee174-1b56-4f21-8ca9-28500f637aad",
   "metadata": {},
   "outputs": [],
   "source": [
    "df['LS 201']=np.where(df['LS 201'] == 'Active', 1, 0)\n",
    "df['LS 202']=np.where(df['LS 202'] == 'Active', 1, 0)\n",
    "df['LSL 203']=np.where(df['LSL 203'] == 'Inactive', 0, 1)\n",
    "df['LSLL 203']=np.where(df['LSLL 203'] == 'Active', 1, 0)\n",
    "df['LS 401']=np.where(df['LS 401'] == 'Active', 1, 0)\n",
    "df['LSH 601']=np.where(df['LSH 601'] == 'Active', 1, 0)\n",
    "df['LSH 602']=np.where(df['LSH 602'] == 'Active', 1, 0)\n",
    "df['LSH 603']=np.where(df['LSH 603'] == 'Active', 1, 0)\n",
    "df['LSL 601']=np.where(df['LSL 601'] == 'Active', 1, 0)\n",
    "df['LSL 602']=np.where(df['LSL 602'] == 'Active', 1, 0)\n",
    "df['LSL 603']=np.where(df['LSL 603'] == 'Active', 1, 0)"
   ]
  },
  {
   "cell_type": "code",
   "execution_count": 6,
   "id": "74a5b971-ca81-441a-b69b-dd2c13fdb858",
   "metadata": {},
   "outputs": [
    {
     "name": "stdout",
     "output_type": "stream",
     "text": [
      "The matrix A has  77  rows and  14996  columns.\n"
     ]
    }
   ],
   "source": [
    "#We first prepare the data for our experiments. Let us load a matrix from the file which has  14996  samples and  77  features.\n",
    "# prepare data\n",
    "import numpy as np\n",
    "filepath ='SWaT_dataset_Jul 19 v2.xlsx'\n",
    "matrixA =df.drop('GMT +0',axis='columns').T\n",
    "print('The matrix A has ', matrixA.shape[0], ' rows and ', matrixA.shape[1], ' columns.')"
   ]
  },
  {
   "cell_type": "code",
   "execution_count": 7,
   "id": "b5c9fbc1-c22e-442d-989f-d5bc598d35f4",
   "metadata": {},
   "outputs": [],
   "source": [
    "#df.drop('GMT +0',axis='columns')"
   ]
  },
  {
   "cell_type": "code",
   "execution_count": 8,
   "id": "b69f6578-7906-46c5-b64b-896e0bb96cb8",
   "metadata": {},
   "outputs": [],
   "source": [
    "matrixA=df[['FIT 101','LIT 101','AIT 201','AIT 202']].T"
   ]
  },
  {
   "cell_type": "code",
   "execution_count": 9,
   "id": "5ea43e9c-4ad5-4350-b1f4-75801c833180",
   "metadata": {},
   "outputs": [
    {
     "data": {
      "text/html": [
       "<div>\n",
       "<style scoped>\n",
       "    .dataframe tbody tr th:only-of-type {\n",
       "        vertical-align: middle;\n",
       "    }\n",
       "\n",
       "    .dataframe tbody tr th {\n",
       "        vertical-align: top;\n",
       "    }\n",
       "\n",
       "    .dataframe thead th {\n",
       "        text-align: right;\n",
       "    }\n",
       "</style>\n",
       "<table border=\"1\" class=\"dataframe\">\n",
       "  <thead>\n",
       "    <tr style=\"text-align: right;\">\n",
       "      <th></th>\n",
       "      <th>0</th>\n",
       "      <th>1</th>\n",
       "      <th>2</th>\n",
       "      <th>3</th>\n",
       "      <th>4</th>\n",
       "      <th>5</th>\n",
       "      <th>6</th>\n",
       "      <th>7</th>\n",
       "      <th>8</th>\n",
       "      <th>9</th>\n",
       "      <th>...</th>\n",
       "      <th>14986</th>\n",
       "      <th>14987</th>\n",
       "      <th>14988</th>\n",
       "      <th>14989</th>\n",
       "      <th>14990</th>\n",
       "      <th>14991</th>\n",
       "      <th>14992</th>\n",
       "      <th>14993</th>\n",
       "      <th>14994</th>\n",
       "      <th>14995</th>\n",
       "    </tr>\n",
       "  </thead>\n",
       "  <tbody>\n",
       "    <tr>\n",
       "      <th>FIT 101</th>\n",
       "      <td>4.323736</td>\n",
       "      <td>4.323736</td>\n",
       "      <td>4.303558</td>\n",
       "      <td>4.253915</td>\n",
       "      <td>4.200429</td>\n",
       "      <td>4.109150</td>\n",
       "      <td>3.955097</td>\n",
       "      <td>3.720975</td>\n",
       "      <td>3.433046</td>\n",
       "      <td>3.057682</td>\n",
       "      <td>...</td>\n",
       "      <td>0.000000</td>\n",
       "      <td>0.000000</td>\n",
       "      <td>0.000000</td>\n",
       "      <td>0.000000</td>\n",
       "      <td>0.000000</td>\n",
       "      <td>0.000000</td>\n",
       "      <td>0.000000</td>\n",
       "      <td>0.000000</td>\n",
       "      <td>0.000000</td>\n",
       "      <td>0.000000</td>\n",
       "    </tr>\n",
       "    <tr>\n",
       "      <th>LIT 101</th>\n",
       "      <td>492.896881</td>\n",
       "      <td>492.465100</td>\n",
       "      <td>492.308100</td>\n",
       "      <td>491.405273</td>\n",
       "      <td>491.169769</td>\n",
       "      <td>491.169769</td>\n",
       "      <td>491.169769</td>\n",
       "      <td>491.287500</td>\n",
       "      <td>491.326782</td>\n",
       "      <td>491.405273</td>\n",
       "      <td>...</td>\n",
       "      <td>725.273200</td>\n",
       "      <td>725.783500</td>\n",
       "      <td>726.097534</td>\n",
       "      <td>726.490051</td>\n",
       "      <td>727.157349</td>\n",
       "      <td>727.706900</td>\n",
       "      <td>728.688200</td>\n",
       "      <td>729.120000</td>\n",
       "      <td>729.434000</td>\n",
       "      <td>729.865800</td>\n",
       "    </tr>\n",
       "    <tr>\n",
       "      <th>AIT 201</th>\n",
       "      <td>131.408615</td>\n",
       "      <td>131.408615</td>\n",
       "      <td>131.408615</td>\n",
       "      <td>131.408615</td>\n",
       "      <td>131.408615</td>\n",
       "      <td>131.408615</td>\n",
       "      <td>131.408615</td>\n",
       "      <td>131.408615</td>\n",
       "      <td>131.536789</td>\n",
       "      <td>131.536789</td>\n",
       "      <td>...</td>\n",
       "      <td>142.527557</td>\n",
       "      <td>142.527557</td>\n",
       "      <td>142.527557</td>\n",
       "      <td>142.527557</td>\n",
       "      <td>142.527557</td>\n",
       "      <td>142.527557</td>\n",
       "      <td>142.527557</td>\n",
       "      <td>142.527557</td>\n",
       "      <td>142.527557</td>\n",
       "      <td>142.527557</td>\n",
       "    </tr>\n",
       "    <tr>\n",
       "      <th>AIT 202</th>\n",
       "      <td>9.313829</td>\n",
       "      <td>9.316713</td>\n",
       "      <td>9.317354</td>\n",
       "      <td>9.317354</td>\n",
       "      <td>9.319918</td>\n",
       "      <td>9.321199</td>\n",
       "      <td>9.321199</td>\n",
       "      <td>9.321199</td>\n",
       "      <td>9.321840</td>\n",
       "      <td>9.323122</td>\n",
       "      <td>...</td>\n",
       "      <td>9.289157</td>\n",
       "      <td>9.289157</td>\n",
       "      <td>9.289157</td>\n",
       "      <td>9.289157</td>\n",
       "      <td>9.289157</td>\n",
       "      <td>9.289157</td>\n",
       "      <td>9.289157</td>\n",
       "      <td>9.293002</td>\n",
       "      <td>9.293002</td>\n",
       "      <td>9.293002</td>\n",
       "    </tr>\n",
       "  </tbody>\n",
       "</table>\n",
       "<p>4 rows × 14996 columns</p>\n",
       "</div>"
      ],
      "text/plain": [
       "              0           1           2           3           4      \\\n",
       "FIT 101    4.323736    4.323736    4.303558    4.253915    4.200429   \n",
       "LIT 101  492.896881  492.465100  492.308100  491.405273  491.169769   \n",
       "AIT 201  131.408615  131.408615  131.408615  131.408615  131.408615   \n",
       "AIT 202    9.313829    9.316713    9.317354    9.317354    9.319918   \n",
       "\n",
       "              5           6           7           8           9      ...  \\\n",
       "FIT 101    4.109150    3.955097    3.720975    3.433046    3.057682  ...   \n",
       "LIT 101  491.169769  491.169769  491.287500  491.326782  491.405273  ...   \n",
       "AIT 201  131.408615  131.408615  131.408615  131.536789  131.536789  ...   \n",
       "AIT 202    9.321199    9.321199    9.321199    9.321840    9.323122  ...   \n",
       "\n",
       "              14986       14987       14988       14989       14990  \\\n",
       "FIT 101    0.000000    0.000000    0.000000    0.000000    0.000000   \n",
       "LIT 101  725.273200  725.783500  726.097534  726.490051  727.157349   \n",
       "AIT 201  142.527557  142.527557  142.527557  142.527557  142.527557   \n",
       "AIT 202    9.289157    9.289157    9.289157    9.289157    9.289157   \n",
       "\n",
       "              14991       14992       14993       14994       14995  \n",
       "FIT 101    0.000000    0.000000    0.000000    0.000000    0.000000  \n",
       "LIT 101  727.706900  728.688200  729.120000  729.434000  729.865800  \n",
       "AIT 201  142.527557  142.527557  142.527557  142.527557  142.527557  \n",
       "AIT 202    9.289157    9.289157    9.293002    9.293002    9.293002  \n",
       "\n",
       "[4 rows x 14996 columns]"
      ]
     },
     "execution_count": 9,
     "metadata": {},
     "output_type": "execute_result"
    }
   ],
   "source": [
    "matrixA"
   ]
  },
  {
   "cell_type": "code",
   "execution_count": 10,
   "id": "6d6542fc-c7cc-49ec-b69a-05f659cd0816",
   "metadata": {},
   "outputs": [
    {
     "data": {
      "text/html": [
       "<div>\n",
       "<style scoped>\n",
       "    .dataframe tbody tr th:only-of-type {\n",
       "        vertical-align: middle;\n",
       "    }\n",
       "\n",
       "    .dataframe tbody tr th {\n",
       "        vertical-align: top;\n",
       "    }\n",
       "\n",
       "    .dataframe thead th {\n",
       "        text-align: right;\n",
       "    }\n",
       "</style>\n",
       "<table border=\"1\" class=\"dataframe\">\n",
       "  <thead>\n",
       "    <tr style=\"text-align: right;\">\n",
       "      <th></th>\n",
       "      <th>0</th>\n",
       "      <th>1</th>\n",
       "      <th>2</th>\n",
       "      <th>3</th>\n",
       "      <th>4</th>\n",
       "      <th>5</th>\n",
       "      <th>6</th>\n",
       "      <th>7</th>\n",
       "      <th>8</th>\n",
       "      <th>9</th>\n",
       "      <th>...</th>\n",
       "      <th>14986</th>\n",
       "      <th>14987</th>\n",
       "      <th>14988</th>\n",
       "      <th>14989</th>\n",
       "      <th>14990</th>\n",
       "      <th>14991</th>\n",
       "      <th>14992</th>\n",
       "      <th>14993</th>\n",
       "      <th>14994</th>\n",
       "      <th>14995</th>\n",
       "    </tr>\n",
       "  </thead>\n",
       "  <tbody>\n",
       "    <tr>\n",
       "      <th>FIT 101</th>\n",
       "      <td>4.323736</td>\n",
       "      <td>4.323736</td>\n",
       "      <td>4.303558</td>\n",
       "      <td>4.253915</td>\n",
       "      <td>4.200429</td>\n",
       "      <td>4.109150</td>\n",
       "      <td>3.955097</td>\n",
       "      <td>3.720975</td>\n",
       "      <td>3.433046</td>\n",
       "      <td>3.057682</td>\n",
       "      <td>...</td>\n",
       "      <td>0.000000</td>\n",
       "      <td>0.000000</td>\n",
       "      <td>0.000000</td>\n",
       "      <td>0.000000</td>\n",
       "      <td>0.000000</td>\n",
       "      <td>0.000000</td>\n",
       "      <td>0.000000</td>\n",
       "      <td>0.000000</td>\n",
       "      <td>0.000000</td>\n",
       "      <td>0.000000</td>\n",
       "    </tr>\n",
       "    <tr>\n",
       "      <th>LIT 101</th>\n",
       "      <td>492.896881</td>\n",
       "      <td>492.465100</td>\n",
       "      <td>492.308100</td>\n",
       "      <td>491.405273</td>\n",
       "      <td>491.169769</td>\n",
       "      <td>491.169769</td>\n",
       "      <td>491.169769</td>\n",
       "      <td>491.287500</td>\n",
       "      <td>491.326782</td>\n",
       "      <td>491.405273</td>\n",
       "      <td>...</td>\n",
       "      <td>725.273200</td>\n",
       "      <td>725.783500</td>\n",
       "      <td>726.097534</td>\n",
       "      <td>726.490051</td>\n",
       "      <td>727.157349</td>\n",
       "      <td>727.706900</td>\n",
       "      <td>728.688200</td>\n",
       "      <td>729.120000</td>\n",
       "      <td>729.434000</td>\n",
       "      <td>729.865800</td>\n",
       "    </tr>\n",
       "    <tr>\n",
       "      <th>AIT 201</th>\n",
       "      <td>131.408615</td>\n",
       "      <td>131.408615</td>\n",
       "      <td>131.408615</td>\n",
       "      <td>131.408615</td>\n",
       "      <td>131.408615</td>\n",
       "      <td>131.408615</td>\n",
       "      <td>131.408615</td>\n",
       "      <td>131.408615</td>\n",
       "      <td>131.536789</td>\n",
       "      <td>131.536789</td>\n",
       "      <td>...</td>\n",
       "      <td>142.527557</td>\n",
       "      <td>142.527557</td>\n",
       "      <td>142.527557</td>\n",
       "      <td>142.527557</td>\n",
       "      <td>142.527557</td>\n",
       "      <td>142.527557</td>\n",
       "      <td>142.527557</td>\n",
       "      <td>142.527557</td>\n",
       "      <td>142.527557</td>\n",
       "      <td>142.527557</td>\n",
       "    </tr>\n",
       "    <tr>\n",
       "      <th>AIT 202</th>\n",
       "      <td>9.313829</td>\n",
       "      <td>9.316713</td>\n",
       "      <td>9.317354</td>\n",
       "      <td>9.317354</td>\n",
       "      <td>9.319918</td>\n",
       "      <td>9.321199</td>\n",
       "      <td>9.321199</td>\n",
       "      <td>9.321199</td>\n",
       "      <td>9.321840</td>\n",
       "      <td>9.323122</td>\n",
       "      <td>...</td>\n",
       "      <td>9.289157</td>\n",
       "      <td>9.289157</td>\n",
       "      <td>9.289157</td>\n",
       "      <td>9.289157</td>\n",
       "      <td>9.289157</td>\n",
       "      <td>9.289157</td>\n",
       "      <td>9.289157</td>\n",
       "      <td>9.293002</td>\n",
       "      <td>9.293002</td>\n",
       "      <td>9.293002</td>\n",
       "    </tr>\n",
       "  </tbody>\n",
       "</table>\n",
       "<p>4 rows × 14996 columns</p>\n",
       "</div>"
      ],
      "text/plain": [
       "              0           1           2           3           4      \\\n",
       "FIT 101    4.323736    4.323736    4.303558    4.253915    4.200429   \n",
       "LIT 101  492.896881  492.465100  492.308100  491.405273  491.169769   \n",
       "AIT 201  131.408615  131.408615  131.408615  131.408615  131.408615   \n",
       "AIT 202    9.313829    9.316713    9.317354    9.317354    9.319918   \n",
       "\n",
       "              5           6           7           8           9      ...  \\\n",
       "FIT 101    4.109150    3.955097    3.720975    3.433046    3.057682  ...   \n",
       "LIT 101  491.169769  491.169769  491.287500  491.326782  491.405273  ...   \n",
       "AIT 201  131.408615  131.408615  131.408615  131.536789  131.536789  ...   \n",
       "AIT 202    9.321199    9.321199    9.321199    9.321840    9.323122  ...   \n",
       "\n",
       "              14986       14987       14988       14989       14990  \\\n",
       "FIT 101    0.000000    0.000000    0.000000    0.000000    0.000000   \n",
       "LIT 101  725.273200  725.783500  726.097534  726.490051  727.157349   \n",
       "AIT 201  142.527557  142.527557  142.527557  142.527557  142.527557   \n",
       "AIT 202    9.289157    9.289157    9.289157    9.289157    9.289157   \n",
       "\n",
       "              14991       14992       14993       14994       14995  \n",
       "FIT 101    0.000000    0.000000    0.000000    0.000000    0.000000  \n",
       "LIT 101  727.706900  728.688200  729.120000  729.434000  729.865800  \n",
       "AIT 201  142.527557  142.527557  142.527557  142.527557  142.527557  \n",
       "AIT 202    9.289157    9.289157    9.293002    9.293002    9.293002  \n",
       "\n",
       "[4 rows x 14996 columns]"
      ]
     },
     "execution_count": 10,
     "metadata": {},
     "output_type": "execute_result"
    }
   ],
   "source": [
    "matrixA"
   ]
  },
  {
   "cell_type": "code",
   "execution_count": 11,
   "id": "8cbdd23c-0d24-47a6-be8b-6b00503daa80",
   "metadata": {},
   "outputs": [],
   "source": [
    "matrixA=matrixA.values"
   ]
  },
  {
   "cell_type": "code",
   "execution_count": 12,
   "id": "75467c8b-d3ae-4915-a8ae-f3e920c876fa",
   "metadata": {},
   "outputs": [
    {
     "data": {
      "text/plain": [
       "array([  4.32373571, 492.4651    , 131.408615  ,   9.316713  ])"
      ]
     },
     "execution_count": 12,
     "metadata": {},
     "output_type": "execute_result"
    }
   ],
   "source": [
    "matrixA[:, 1]"
   ]
  },
  {
   "cell_type": "code",
   "execution_count": 13,
   "id": "e226826b-d824-4b19-9459-c37ef2e078a8",
   "metadata": {},
   "outputs": [
    {
     "data": {
      "text/plain": [
       "637.51416371"
      ]
     },
     "execution_count": 13,
     "metadata": {},
     "output_type": "execute_result"
    }
   ],
   "source": [
    "np.sum(matrixA[:, 1])"
   ]
  },
  {
   "cell_type": "markdown",
   "id": "43097e77-d94e-4716-9d5b-bd2fc24c0107",
   "metadata": {},
   "source": [
    "\n",
    "2. Algorithm Description\n",
    "The beauty of the count sketch is that given  A∈Rm×n , a sketch of any size can be formed in  O(nnz(A))  time, where  nnz(A)  denotes the number of non-zero entries in  A .\n",
    "Suppose we are given any fixed matrix  A∈Rm×n  and the size of sketch  s . We first hash each column with a discrete value which is uniformly sampled from  {1,⋯,s} , then flip the sign of each column with probability 50%, and finally sum up the columns with the same hash value. The result is an  m×s  matrix  C=AS ."
   ]
  },
  {
   "cell_type": "markdown",
   "id": "55bc2666-10d6-4171-a1d1-b377bef28598",
   "metadata": {},
   "source": [
    "The matrix  A  is normally too large to fit in memory, but the sketch  C  can fit in memory. In such situation, we can read  A  in a streaming fashion, that is, keep only one column of  A  in memory at a time. "
   ]
  },
  {
   "cell_type": "code",
   "execution_count": 14,
   "id": "f411779e-5e26-481c-8095-138c66379d12",
   "metadata": {},
   "outputs": [],
   "source": [
    "def countSketchStreaming(matrixA, s):\n",
    "    m, n = matrixA.shape\n",
    "    matrixC = np.zeros([m, s])\n",
    "    hashedIndices = np.random.choice(s, n, replace=True)\n",
    "    randSigns = np.random.choice(2, n, replace=True) * 2 - 1 \n",
    "    for j in range(n):\n",
    "        a = matrixA[:, j]\n",
    "        h = hashedIndices[j]\n",
    "        g = randSigns[j]\n",
    "        matrixC[:, h] += g * a\n",
    "    return matrixC\n",
    "\n",
    "s = 2 # sketch size, can be tuned\n",
    "matrixC = countSketchStreaming(matrixA, s)"
   ]
  },
  {
   "cell_type": "code",
   "execution_count": 15,
   "id": "5c3b4a26-adce-4d89-b080-7477f3f75866",
   "metadata": {},
   "outputs": [
    {
     "name": "stdout",
     "output_type": "stream",
     "text": [
      "[  219.76851414 90900.6646424  17023.20833846  1128.04779413]\n",
      "[   284.25384423 112567.19462251  20994.89515709   1424.07728062]\n"
     ]
    }
   ],
   "source": [
    "\n",
    "# Test\n",
    "# compare the l2 norm of each row of A and C\n",
    "rowNormsA = np.sqrt(np.sum(np.square(matrixA), 1))\n",
    "print(rowNormsA)\n",
    "rowNormsC = np.sqrt(np.sum(np.square(matrixC), 1))\n",
    "print(rowNormsC)"
   ]
  },
  {
   "cell_type": "markdown",
   "id": "227e90c4-078b-421f-ae83-7830b2da660b",
   "metadata": {},
   "source": [
    "Import Data To InfluxDB"
   ]
  },
  {
   "cell_type": "code",
   "execution_count": 16,
   "id": "9b327447-7aac-491c-a691-092fa712c70d",
   "metadata": {},
   "outputs": [
    {
     "name": "stderr",
     "output_type": "stream",
     "text": [
      "/usr/local/spark/python/pyspark/sql/pandas/conversion.py:474: FutureWarning: iteritems is deprecated and will be removed in a future version. Use .items instead.\n",
      "  for column, series in pdf.iteritems():\n",
      "/usr/local/spark/python/pyspark/sql/pandas/conversion.py:486: FutureWarning: iteritems is deprecated and will be removed in a future version. Use .items instead.\n",
      "  for column, series in pdf.iteritems():\n"
     ]
    }
   ],
   "source": [
    "df = pd.DataFrame(matrixC , columns = ['Column_A','Column_B'])\n",
    "sdf = spark.createDataFrame(df) "
   ]
  },
  {
   "cell_type": "code",
   "execution_count": 17,
   "id": "488fc41d-bbff-457c-bf56-3de91e6a6ee2",
   "metadata": {},
   "outputs": [
    {
     "data": {
      "text/plain": [
       "DataFrame[Column_A: double, Column_B: double]"
      ]
     },
     "execution_count": 17,
     "metadata": {},
     "output_type": "execute_result"
    }
   ],
   "source": [
    "sdf"
   ]
  },
  {
   "cell_type": "code",
   "execution_count": 32,
   "id": "7b7b9955-960d-4bc5-9b61-1dbc1bb33cc0",
   "metadata": {},
   "outputs": [],
   "source": [
    "import influxdb_client\n",
    "from influxdb_client.client.write_api import SYNCHRONOUS\n",
    "\n",
    "token = 'Uia8RRskYI4eznCuUeT1ushn7CNj1vZy867-Upx7-LEWcKiXAaatbqEZGZ2acmxfuDmDiAF460YCnV_Xjjw-9Q=='\n",
    "org = 'changeme'\n",
    "bucket = 'test'\n",
    "\n",
    "with influxdb_client.InfluxDBClient(url=\"http://influxdb:8086\", token=token, org=org) as client:\n",
    "    write_api = client.write_api(write_options=SYNCHRONOUS)\n",
    "    dataCollect = sdf.collect()\n",
    "    for row in dataCollect:\n",
    "        for col in sdf.columns[1:]:\n",
    "            p = influxdb_client.Point(\"swat_measure_2\").field(col, row[col])\n",
    "            write_api.write(bucket, org, p)  "
   ]
  },
  {
   "cell_type": "code",
   "execution_count": 33,
   "id": "e3cb5593-df97-4720-af44-3c5c7e85e991",
   "metadata": {},
   "outputs": [],
   "source": [
    "with influxdb_client.InfluxDBClient(url=\"http://influxdb:8086\", token=token, org=org) as client:\n",
    "    write_api = client.write_api(write_options=SYNCHRONOUS)\n",
    "    dataCollect = sdf.collect()\n",
    "    for row in dataCollect:\n",
    "        for col in sdf.columns[1:]:\n",
    "            p = influxdb_client.Point(\"swat_measure_2\").field(col, row[col])\n",
    "            write_api.write(bucket, org, p)  "
   ]
  },
  {
   "cell_type": "code",
   "execution_count": 34,
   "id": "d317d8aa-d313-48ce-aa26-d92962de6055",
   "metadata": {},
   "outputs": [
    {
     "name": "stdout",
     "output_type": "stream",
     "text": [
      "swat_measure_2 Column_B=-69.88981900999991\n",
      "swat_measure_2 Column_B=42940.199887000024\n",
      "swat_measure_2 Column_B=7878.684454999999\n",
      "swat_measure_2 Column_B=485.3937313799988\n"
     ]
    }
   ],
   "source": [
    "dataCollect = sdf.collect()\n",
    "for row in dataCollect:\n",
    "    for col in sdf.columns[1:]:\n",
    "        p = influxdb_client.Point(\"swat_measure_2\").field(col, row[col])\n",
    "        print(p)"
   ]
  },
  {
   "cell_type": "code",
   "execution_count": 35,
   "id": "b1b9141a-bc63-4aaa-a35c-36e67e23b389",
   "metadata": {},
   "outputs": [
    {
     "data": {
      "text/plain": [
       "<influxdb_client.client.write.point.Point at 0x7f8b30253850>"
      ]
     },
     "execution_count": 35,
     "metadata": {},
     "output_type": "execute_result"
    }
   ],
   "source": [
    "p"
   ]
  },
  {
   "cell_type": "code",
   "execution_count": null,
   "id": "f4b06882-b1ba-40df-9bb3-12b3a4dc350d",
   "metadata": {},
   "outputs": [],
   "source": []
  }
 ],
 "metadata": {
  "kernelspec": {
   "display_name": "Python 3 (ipykernel)",
   "language": "python",
   "name": "python3"
  },
  "language_info": {
   "codemirror_mode": {
    "name": "ipython",
    "version": 3
   },
   "file_extension": ".py",
   "mimetype": "text/x-python",
   "name": "python",
   "nbconvert_exporter": "python",
   "pygments_lexer": "ipython3",
   "version": "3.10.6"
  },
  "vscode": {
   "interpreter": {
    "hash": "e434b70314808c558e63f968b6c7c259ab81831d4d9f8cdacc9bbad94a7c3c5e"
   }
  }
 },
 "nbformat": 4,
 "nbformat_minor": 5
}
