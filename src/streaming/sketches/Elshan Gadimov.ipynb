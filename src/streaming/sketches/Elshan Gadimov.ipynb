{
 "cells": [
  {
   "cell_type": "markdown",
   "id": "1671479b-fee0-4811-89b9-2d90f91da48c",
   "metadata": {},
   "source": [
    "# Stream, Run Sketches, Save to Influx"
   ]
  },
  {
   "cell_type": "code",
   "execution_count": 1,
   "id": "c6ec8dc7-aa70-401a-a724-3e20ee7b0ef7",
   "metadata": {
    "tags": []
   },
   "outputs": [
    {
     "name": "stdout",
     "output_type": "stream",
     "text": [
      "Requirement already satisfied: mmh3 in /opt/conda/lib/python3.10/site-packages (3.0.0)\n"
     ]
    }
   ],
   "source": [
    "!pip install mmh3"
   ]
  },
  {
   "cell_type": "code",
   "execution_count": 5,
   "id": "35c6720d-5912-471d-98b5-bd1f05245d0f",
   "metadata": {},
   "outputs": [],
   "source": [
    "from pyspark.sql import SparkSession\n",
    "import pandas as pd\n",
    "import numpy as np"
   ]
  },
  {
   "cell_type": "code",
   "execution_count": 2,
   "id": "4b540140-c0e6-45fb-867d-d4a0b51b04ca",
   "metadata": {
    "tags": []
   },
   "outputs": [
    {
     "name": "stderr",
     "output_type": "stream",
     "text": [
      "/usr/local/spark/python/pyspark/sql/pandas/conversion.py:474: FutureWarning: iteritems is deprecated and will be removed in a future version. Use .items instead.\n",
      "  for column, series in pdf.iteritems():\n",
      "/usr/local/spark/python/pyspark/sql/pandas/conversion.py:486: FutureWarning: iteritems is deprecated and will be removed in a future version. Use .items instead.\n",
      "  for column, series in pdf.iteritems():\n"
     ]
    },
    {
     "name": "stdout",
     "output_type": "stream",
     "text": [
      "+--------------------+----------+----------+------+--------+-----------+-----------+----------+--------+----------+----------+--------+--------+--------+--------+-----+--------+-----------+-----------+-----------+-----------+-----------+-----------+-----------+-----------+--------+----------+----------+----------+----------+----------+------+------+------+------+--------+-----------+-----------+-------+----------+-----------+----------+--------+--------+-----------+-----------+-----------+-----------+-----+----------+----------+----------+----------+-----------+-----------+-----------+----------+------+------+------+------+--------+-----------+-----------+----------+----------+----------+----------+-------+-------+--------+--------+--------+-------+--------+-----------+-----------+-----------+\n",
      "|              GMT +0|   FIT 101|   LIT 101|MV 101|P1_STATE|P101 Status|P102 Status|   AIT 201| AIT 202|   AIT 203|   FIT 201|  LS 201|  LS 202| LSL 203|LSLL 203|MV201|P2_STATE|P201 Status|P202 Status|P203 Status|P204 Status|P205 Status|P206 Status|P207 Status|P208 Status| AIT 301|   AIT 302|   AIT 303|  DPIT 301|   FIT 301|   LIT 301|MV 301|MV 302|MV 303|MV 304|P3_STATE|P301 Status|P302 Status|AIT 401|   AIT 402|    FIT 401|   LIT 401|  LS 401|P4_STATE|P401 Status|P402 Status|P403 Status|P404 Status|UV401|   AIT 501|   AIT 502|   AIT 503|   AIT 504|    FIT 501|    FIT 502|    FIT 503|   FIT 504|MV 501|MV 502|MV 503|MV 504|P5_STATE|P501 Status|P502 Status|   PIT 501|   PIT 502|   PIT 503|   FIT 601|LSH 601|LSH 602| LSH 603| LSL 601| LSL 602|LSL 603|P6 STATE|P601 Status|P602 Status|P603 Status|\n",
      "+--------------------+----------+----------+------+--------+-----------+-----------+----------+--------+----------+----------+--------+--------+--------+--------+-----+--------+-----------+-----------+-----------+-----------+-----------+-----------+-----------+-----------+--------+----------+----------+----------+----------+----------+------+------+------+------+--------+-----------+-----------+-------+----------+-----------+----------+--------+--------+-----------+-----------+-----------+-----------+-----+----------+----------+----------+----------+-----------+-----------+-----------+----------+------+------+------+------+--------+-----------+-----------+----------+----------+----------+----------+-------+-------+--------+--------+--------+-------+--------+-----------+-----------+-----------+\n",
      "|2019-07-20 08:39:...|4.32373571|492.896881|     2|       2|          2|          1|131.408615|9.313829|257.933868|2.31365132|Inactive|Inactive|Inactive|Inactive|    2|       2|          1|          1|          2|          1|          2|          1|          1|          1|8.744734|273.103271|134.227539|12.2222929|1.71937346|   883.908|     1|     2|     1|     1|       7|          2|          1|      0|   3.74263|0.807990253|    962.83|Inactive|       4|          2|          1|          1|          1|    2|7.76582956|63.7528839|1016.21381|24.8397846|0.808126152|0.363007575|  0.6059598|0.20990935|     2|     2|     1|     1|      12|          2|          1|  158.8535|2.49895883|113.784927|3.20379E-4| Active| Active|Inactive|Inactive|Inactive| Active|       2|          1|          1|          1|\n",
      "|2019-07-20 08:39:...|4.32373571|  492.4651|     2|       2|          2|          1|131.408615|9.316713|257.703156|2.31365132|Inactive|Inactive|Inactive|Inactive|    2|       2|          1|          1|          2|          1|          2|          1|          1|          1|8.744734|273.103271|134.227539|12.2222929|1.71937346|   883.908|     1|     2|     1|     1|       7|          2|          1|      0|   3.74263|  0.8086305|962.445557|Inactive|       4|          2|          1|          1|          1|    2|7.76582956|63.7528839|1016.21381|24.8397846| 0.80953604|0.357115418|  0.6059598|0.20990935|     2|     2|     1|     1|      12|          2|          1|  158.8535|2.49895883|113.784927|3.20379E-4| Active| Active|Inactive|Inactive|Inactive| Active|       2|          1|          1|          1|\n",
      "|2019-07-20 08:39:...|4.30355835|  492.3081|     2|       2|          2|          1|131.408615|9.317354|257.703156|2.31365132|Inactive|Inactive|Inactive|Inactive|    2|       2|          1|          1|          2|          1|          2|          1|          1|          1|8.744734|273.103271|134.227539|12.2222929|1.71937346|883.387268|     1|     2|     1|     1|       7|          2|          1|      0|   3.74263| 0.80927074|962.637756|Inactive|       4|          2|          1|          1|          1|    2|7.76582956|63.7528839|1016.21381|24.8397846| 0.80953604|0.369155884|  0.6059598|0.20990935|     2|     2|     1|     1|      12|          2|          1|  158.8535|2.49895883|113.784927|3.20379E-4| Active| Active|Inactive|Inactive|Inactive| Active|       2|          1|          1|          1|\n",
      "|2019-07-20 08:39:...|4.25391531|491.405273|     2|       2|          2|          1|131.408615|9.317354|257.703156|2.31429219|Inactive|Inactive|Inactive|Inactive|    2|       2|          1|          1|          2|          1|          2|          1|          1|          1|8.744734|273.103271|134.227539|12.2222929|1.71937346|883.227051|     1|     2|     1|     1|       7|          2|          1|      0|   3.74263| 0.80927074|962.137939|Inactive|       4|          2|          1|          1|          1|    2|7.76582956|63.7528839|1016.21381|24.8397846| 0.80953604|0.374023318|  0.6059598|0.20990935|     2|     2|     1|     1|      12|          2|          1|158.805435|2.49895883|113.784927|3.20379E-4| Active| Active|Inactive|Inactive|Inactive| Active|       2|          1|          1|          1|\n",
      "|2019-07-20 08:39:...|  4.200429|491.169769|     2|       2|          2|          1|131.408615|9.319918|257.703156|2.31608629|Inactive|Inactive|Inactive|Inactive|    2|       2|          1|          1|          2|          1|          2|          1|          1|          1|8.744734|273.103271|134.227539|12.2222929|1.71847665|883.227051|     1|     2|     1|     1|       7|          2|          1|      0|3.69136119| 0.80927074|  961.8688|Inactive|       4|          2|          1|          1|          1|    2|7.76582956|63.7528839|1016.21381|24.8397846| 0.80953604|0.366594076|0.607752144|0.20990935|     2|     2|     1|     1|      12|          2|          1|158.773392|2.49895883|113.784927|3.20379E-4| Active| Active|Inactive|Inactive|Inactive| Active|       2|          1|          1|          1|\n",
      "+--------------------+----------+----------+------+--------+-----------+-----------+----------+--------+----------+----------+--------+--------+--------+--------+-----+--------+-----------+-----------+-----------+-----------+-----------+-----------+-----------+-----------+--------+----------+----------+----------+----------+----------+------+------+------+------+--------+-----------+-----------+-------+----------+-----------+----------+--------+--------+-----------+-----------+-----------+-----------+-----+----------+----------+----------+----------+-----------+-----------+-----------+----------+------+------+------+------+--------+-----------+-----------+----------+----------+----------+----------+-------+-------+--------+--------+--------+-------+--------+-----------+-----------+-----------+\n",
      "only showing top 5 rows\n",
      "\n"
     ]
    }
   ],
   "source": [
    "df = pd.read_excel('./../SWaT_dataset_Jul 19 v2.xlsx', parse_dates = ['GMT +0'])\n",
    "\n",
    "spark = SparkSession.builder.appName(\"Test\").getOrCreate()\n",
    "sdf = spark.createDataFrame(df) \n",
    "sdf.show(5)"
   ]
  },
  {
   "cell_type": "code",
   "execution_count": 138,
   "id": "b2a8f738-1c03-44f1-af31-db6f8a760047",
   "metadata": {},
   "outputs": [],
   "source": [
    "# from sklearn.preprocessing import MinMaxScaler\n",
    "# import matplotlib.pyplot as plt\n",
    "\n",
    "# scaler = MinMaxScaler()\n",
    "\n",
    "# col = np.array(sdf.select('FIT 401').collect())\n",
    "\n",
    "# col = scaler.fit_transform(col).flatten()\n",
    "\n",
    "# col = np.around(col).astype(int)\n",
    "\n",
    "# # plt.plot(col)\n",
    "# # plt.show()"
   ]
  },
  {
   "cell_type": "code",
   "execution_count": null,
   "id": "ff86ff5f-efe4-4b75-b3ed-75b7cd3be932",
   "metadata": {},
   "outputs": [],
   "source": []
  },
  {
   "cell_type": "code",
   "execution_count": null,
   "id": "bac1766b-edba-4f09-b6da-0eb8ade4ddc7",
   "metadata": {},
   "outputs": [],
   "source": []
  },
  {
   "cell_type": "code",
   "execution_count": null,
   "id": "64a6da12-b213-40e8-ba4b-5ca1072e76bb",
   "metadata": {},
   "outputs": [],
   "source": []
  },
  {
   "cell_type": "code",
   "execution_count": null,
   "id": "a0502c1c-eaa8-4d80-92da-b1fe7ad88c41",
   "metadata": {},
   "outputs": [],
   "source": []
  },
  {
   "cell_type": "markdown",
   "id": "f25d2e8e-3b56-4e07-a03e-02a7782d8779",
   "metadata": {
    "tags": []
   },
   "source": [
    "## Flajolet-Martin Algorithm"
   ]
  },
  {
   "cell_type": "code",
   "execution_count": 3,
   "id": "924c8f1a-d233-4627-a9c5-f1d240ef746c",
   "metadata": {
    "tags": []
   },
   "outputs": [
    {
     "name": "stdout",
     "output_type": "stream",
     "text": [
      "Using Flajolet Martin Algorithm:\n"
     ]
    }
   ],
   "source": [
    "print('Using Flajolet Martin Algorithm:')\n",
    "\n",
    "def flajolet_martin(stream, name):\n",
    "    maxnum=0\n",
    "    for i in range(0,len(stream)):\n",
    "        val= bin((1*stream[i] + 6) % 32)[2:]\n",
    "\n",
    "        sum=0\n",
    "        for j in range(len(val)-1,0,-1):\n",
    "\n",
    "            if val[j]=='0':\n",
    "                sum+=1\n",
    "            else:\n",
    "                break\n",
    "        if sum>maxnum:\n",
    "            maxnum=sum\n",
    "\n",
    "    print('distict elements in ', name, ' are ', 2**maxnum)\n",
    "    \n"
   ]
  },
  {
   "cell_type": "code",
   "execution_count": 6,
   "id": "b2f2683b-f550-4178-818e-e3abcd57dded",
   "metadata": {
    "tags": []
   },
   "outputs": [
    {
     "name": "stdout",
     "output_type": "stream",
     "text": [
      "[0 0 0 ... 0 0 0]\n",
      "distict elements in  FIT 401  are  2\n",
      "[883 883 883 ... 732 730 730]\n",
      "distict elements in  LIT 301  are  16\n"
     ]
    }
   ],
   "source": [
    "for k in [\"FIT 401\", \"LIT 301\"]:\n",
    "    col = np.array(sdf.select(k).collect()).flatten().astype(int)\n",
    "    # col = np.around(col)\n",
    "    print(col)\n",
    "    flajolet_martin(col, k)\n",
    "\n"
   ]
  },
  {
   "cell_type": "code",
   "execution_count": null,
   "id": "4ec9cd05-d8fa-4a00-9729-5ff936e2a8c3",
   "metadata": {},
   "outputs": [],
   "source": []
  },
  {
   "cell_type": "code",
   "execution_count": null,
   "id": "fa133262-f7ab-4adf-912e-aab7192ff9b3",
   "metadata": {},
   "outputs": [],
   "source": []
  },
  {
   "cell_type": "code",
   "execution_count": null,
   "id": "7c6fb9c3-207d-407a-973f-93c2ae46b07b",
   "metadata": {},
   "outputs": [],
   "source": []
  },
  {
   "cell_type": "code",
   "execution_count": null,
   "id": "759563fd-54cd-4ee4-a55f-8adff09658bf",
   "metadata": {},
   "outputs": [],
   "source": []
  },
  {
   "cell_type": "markdown",
   "id": "49f299b2-a4ee-4a2a-9c0a-13ed2e7f479c",
   "metadata": {
    "tags": []
   },
   "source": [
    "## Frequency SpaceSaving"
   ]
  },
  {
   "cell_type": "code",
   "execution_count": 8,
   "id": "a46e306b-33e8-4772-9424-d7adb8977587",
   "metadata": {
    "tags": []
   },
   "outputs": [],
   "source": [
    "import math, heapq\n",
    "\n",
    "class SpaceSavingCounter:\n",
    "    def __init__(self, eps):\n",
    "        self.k = math.ceil(1/eps)\n",
    "        self.n = 0\n",
    "        self.counts = dict()\n",
    "        self.queue = []\n",
    "\n",
    "    def inc(self, x):\n",
    "        # increment total elements seen\n",
    "        self.n += 1\n",
    "\n",
    "        # x is being watched\n",
    "        if x in self.counts:\n",
    "            self.counts[x] += 1\n",
    "\n",
    "        # x is not being watched\n",
    "        else:\n",
    "            # make room for x\n",
    "            if self.n > self.k:\n",
    "                while True:\n",
    "                    count, tstamp, key = self.pop()\n",
    "                    assert self.counts[key] >= count\n",
    "                    if self.counts[key] == count:\n",
    "                        del self.counts[key]\n",
    "                        break\n",
    "                    else:\n",
    "                        self.push(self.counts[key], tstamp, key)\n",
    "            else:\n",
    "                count = 0\n",
    "\n",
    "            # watch x\n",
    "            self.counts[x] = count + 1\n",
    "            self.push(count, self.n, x)\n",
    "\n",
    "\n",
    "    def push(self, count, tstamp, key):\n",
    "        heapq.heappush(\n",
    "            self.queue,\n",
    "            (count, tstamp, key)\n",
    "        )\n",
    "\n",
    "    def pop(self):\n",
    "        return heapq.heappop(self.queue)"
   ]
  },
  {
   "cell_type": "code",
   "execution_count": 9,
   "id": "70ae645a-e3d9-47bb-ba83-bca5fce3c790",
   "metadata": {},
   "outputs": [
    {
     "name": "stdout",
     "output_type": "stream",
     "text": [
      "P601 Status {1: 14996}\n",
      "MV201 {2: 29992}\n",
      "P101 Status {2: 44988}\n",
      "MV 501 {2: 59984}\n",
      "P301 Status {1: 74980}\n"
     ]
    }
   ],
   "source": [
    "for k in [\"P601 Status\",\"MV201\", \"P101 Status\", \"MV 501\", \"P301 Status\"]:\n",
    "    stream = np.array(sdf.select(k).collect()).flatten()\n",
    "    # col = np.around(col)\n",
    "    # print(col)\n",
    "    # flajolet_martin(col, k)\n",
    "    for x in stream:\n",
    "        counter.inc(x)\n",
    "    print(k,counter.counts)"
   ]
  },
  {
   "cell_type": "code",
   "execution_count": null,
   "id": "8e2ac879-4a91-47ca-a798-245aaab6c01d",
   "metadata": {},
   "outputs": [],
   "source": []
  },
  {
   "cell_type": "code",
   "execution_count": null,
   "id": "2bb3d114-39c0-450a-a081-2fb668a68126",
   "metadata": {},
   "outputs": [],
   "source": []
  },
  {
   "cell_type": "markdown",
   "id": "9b3e1b76-b710-428a-80d4-d6eee616cbf5",
   "metadata": {},
   "source": [
    "## Saving Attacked Columns "
   ]
  },
  {
   "cell_type": "code",
   "execution_count": 12,
   "id": "ae372dcc-fe93-4082-a42d-ae04bc46b68f",
   "metadata": {},
   "outputs": [],
   "source": [
    "import influxdb_client\n",
    "from influxdb_client.client.write_api import SYNCHRONOUS\n",
    "\n",
    "token = 'Qd6R1JJWOOKfcKmBn0s50wHLqA-2LjLjEGJiUAGp1_RCes_JRe_bkELLYL5jqCXRQ1Haww3_mrHk_69yN88L0A=='\n",
    "org = 'ELTE'\n",
    "bucket = 'ELTE'\n",
    "\n",
    "cols_with_attackes = [\"FIT 401\", \"LIT 301\", \"P601 Status\",\"MV201\", \"P101 Status\", \"MV 501\", \"P301 Status\"]\n",
    "\n",
    "with influxdb_client.InfluxDBClient(url=\"http://influxdb:8086\", token=token, org=org) as client:\n",
    "    write_api = client.write_api(write_options=SYNCHRONOUS)\n",
    "    dataCollect = sdf.collect()\n",
    "    for row in dataCollect:\n",
    "        for col in cols_with_attackes:\n",
    "            p = influxdb_client.Point(\"swat_attacked_cols\").field(col, row[col])\n",
    "            write_api.write(bucket, org, p)    "
   ]
  },
  {
   "cell_type": "code",
   "execution_count": null,
   "id": "11b4918f-ee09-4613-a4bf-14367a9d3fe3",
   "metadata": {},
   "outputs": [],
   "source": []
  },
  {
   "cell_type": "code",
   "execution_count": null,
   "id": "f3446b58-7605-4f25-95db-015f4736479e",
   "metadata": {},
   "outputs": [],
   "source": []
  },
  {
   "cell_type": "code",
   "execution_count": null,
   "id": "f268565c-0072-4c96-8af8-725720f8be99",
   "metadata": {},
   "outputs": [],
   "source": []
  },
  {
   "cell_type": "code",
   "execution_count": 10,
   "id": "65301046-7952-4831-92af-79b05ba3b424",
   "metadata": {},
   "outputs": [],
   "source": [
    "from sklearn.preprocessing import MinMaxScaler, RobustScaler"
   ]
  },
  {
   "cell_type": "code",
   "execution_count": 11,
   "id": "800dd4c4-5f80-4edc-910b-e2d61d4a70ec",
   "metadata": {},
   "outputs": [
    {
     "data": {
      "text/plain": [
       "0        9.313829\n",
       "1        9.316713\n",
       "2        9.317354\n",
       "3        9.317354\n",
       "4        9.319918\n",
       "           ...   \n",
       "14991    9.289157\n",
       "14992    9.289157\n",
       "14993    9.293002\n",
       "14994    9.293002\n",
       "14995    9.293002\n",
       "Name: AIT 202, Length: 14996, dtype: float64"
      ]
     },
     "execution_count": 11,
     "metadata": {},
     "output_type": "execute_result"
    }
   ],
   "source": [
    "df['AIT 202']"
   ]
  },
  {
   "cell_type": "code",
   "execution_count": 12,
   "id": "43427a62-a5a0-41e4-b379-aa2392d342d5",
   "metadata": {
    "tags": []
   },
   "outputs": [
    {
     "data": {
      "text/html": [
       "<div>\n",
       "<style scoped>\n",
       "    .dataframe tbody tr th:only-of-type {\n",
       "        vertical-align: middle;\n",
       "    }\n",
       "\n",
       "    .dataframe tbody tr th {\n",
       "        vertical-align: top;\n",
       "    }\n",
       "\n",
       "    .dataframe thead th {\n",
       "        text-align: right;\n",
       "    }\n",
       "</style>\n",
       "<table border=\"1\" class=\"dataframe\">\n",
       "  <thead>\n",
       "    <tr style=\"text-align: right;\">\n",
       "      <th></th>\n",
       "      <th>FIT_401_scaled</th>\n",
       "      <th>LIT_301_scaled</th>\n",
       "      <th>FIT 401</th>\n",
       "      <th>LIT 301</th>\n",
       "      <th>P601 Status</th>\n",
       "      <th>MV201</th>\n",
       "      <th>P101 Status</th>\n",
       "      <th>MV 501</th>\n",
       "      <th>3101 Status</th>\n",
       "    </tr>\n",
       "  </thead>\n",
       "  <tbody>\n",
       "    <tr>\n",
       "      <th>0</th>\n",
       "      <td>0.970514</td>\n",
       "      <td>0.400985</td>\n",
       "      <td>0.807990</td>\n",
       "      <td>883.908000</td>\n",
       "      <td>1</td>\n",
       "      <td>2</td>\n",
       "      <td>2</td>\n",
       "      <td>2</td>\n",
       "      <td>2</td>\n",
       "    </tr>\n",
       "    <tr>\n",
       "      <th>1</th>\n",
       "      <td>0.972312</td>\n",
       "      <td>0.400985</td>\n",
       "      <td>0.808631</td>\n",
       "      <td>883.908000</td>\n",
       "      <td>1</td>\n",
       "      <td>2</td>\n",
       "      <td>2</td>\n",
       "      <td>2</td>\n",
       "      <td>2</td>\n",
       "    </tr>\n",
       "    <tr>\n",
       "      <th>2</th>\n",
       "      <td>0.974110</td>\n",
       "      <td>0.399622</td>\n",
       "      <td>0.809271</td>\n",
       "      <td>883.387268</td>\n",
       "      <td>1</td>\n",
       "      <td>2</td>\n",
       "      <td>2</td>\n",
       "      <td>2</td>\n",
       "      <td>2</td>\n",
       "    </tr>\n",
       "    <tr>\n",
       "      <th>3</th>\n",
       "      <td>0.974110</td>\n",
       "      <td>0.399203</td>\n",
       "      <td>0.809271</td>\n",
       "      <td>883.227051</td>\n",
       "      <td>1</td>\n",
       "      <td>2</td>\n",
       "      <td>2</td>\n",
       "      <td>2</td>\n",
       "      <td>2</td>\n",
       "    </tr>\n",
       "    <tr>\n",
       "      <th>4</th>\n",
       "      <td>0.974110</td>\n",
       "      <td>0.399203</td>\n",
       "      <td>0.809271</td>\n",
       "      <td>883.227051</td>\n",
       "      <td>1</td>\n",
       "      <td>2</td>\n",
       "      <td>2</td>\n",
       "      <td>2</td>\n",
       "      <td>2</td>\n",
       "    </tr>\n",
       "  </tbody>\n",
       "</table>\n",
       "</div>"
      ],
      "text/plain": [
       "   FIT_401_scaled  LIT_301_scaled   FIT 401     LIT 301  P601 Status  MV201  \\\n",
       "0        0.970514        0.400985  0.807990  883.908000            1      2   \n",
       "1        0.972312        0.400985  0.808631  883.908000            1      2   \n",
       "2        0.974110        0.399622  0.809271  883.387268            1      2   \n",
       "3        0.974110        0.399203  0.809271  883.227051            1      2   \n",
       "4        0.974110        0.399203  0.809271  883.227051            1      2   \n",
       "\n",
       "   P101 Status  MV 501  3101 Status  \n",
       "0            2       2            2  \n",
       "1            2       2            2  \n",
       "2            2       2            2  \n",
       "3            2       2            2  \n",
       "4            2       2            2  "
      ]
     },
     "execution_count": 12,
     "metadata": {},
     "output_type": "execute_result"
    }
   ],
   "source": [
    "min_max = MinMaxScaler()\n",
    "df_scaled = pd.DataFrame(min_max.fit_transform(df[[\"FIT 401\", \"LIT 301\"]]), columns=[\"FIT_401_scaled\", \"LIT_301_scaled\"])\n",
    "df_scaled['FIT 401'] = df['FIT 401']\n",
    "df_scaled['LIT 301'] = df['LIT 301']\n",
    "\n",
    "df_scaled['P601 Status'] = df['P601 Status']\n",
    "df_scaled['MV201'] = df['MV201']\n",
    "df_scaled['P101 Status'] = df['P101 Status']\n",
    "df_scaled['MV 501'] = df['MV 501']\n",
    "df_scaled['3101 Status'] = df['P301 Status']\n",
    "\n",
    "df_scaled.head()"
   ]
  },
  {
   "cell_type": "code",
   "execution_count": 14,
   "id": "8097f234-e380-4c6b-b169-ead1d9d4bd1c",
   "metadata": {},
   "outputs": [
    {
     "data": {
      "text/plain": [
       "Index(['FIT_401_scaled', 'LIT_301_scaled', 'FIT 401', 'LIT 301', 'P601 Status',\n",
       "       'MV201', 'P101 Status', 'MV 501', '3101 Status'],\n",
       "      dtype='object')"
      ]
     },
     "execution_count": 14,
     "metadata": {},
     "output_type": "execute_result"
    }
   ],
   "source": [
    "df_scaled.columns"
   ]
  },
  {
   "cell_type": "code",
   "execution_count": null,
   "id": "4d88b0d1-a573-4bf2-9606-35b360a53b4f",
   "metadata": {},
   "outputs": [
    {
     "name": "stderr",
     "output_type": "stream",
     "text": [
      "/usr/local/spark/python/pyspark/sql/pandas/conversion.py:474: FutureWarning: iteritems is deprecated and will be removed in a future version. Use .items instead.\n",
      "  for column, series in pdf.iteritems():\n",
      "/usr/local/spark/python/pyspark/sql/pandas/conversion.py:486: FutureWarning: iteritems is deprecated and will be removed in a future version. Use .items instead.\n",
      "  for column, series in pdf.iteritems():\n"
     ]
    }
   ],
   "source": [
    "import influxdb_client\n",
    "from influxdb_client.client.write_api import SYNCHRONOUS\n",
    "\n",
    "token = 'Qd6R1JJWOOKfcKmBn0s50wHLqA-2LjLjEGJiUAGp1_RCes_JRe_bkELLYL5jqCXRQ1Haww3_mrHk_69yN88L0A=='\n",
    "org = 'ELTE'\n",
    "bucket = 'ELTE'\n",
    "\n",
    "cols_saved = df_scaled.columns\n",
    "sdf_scaled = spark.createDataFrame(df_scaled) \n",
    "\n",
    "with influxdb_client.InfluxDBClient(url=\"http://influxdb:8086\", token=token, org=org) as client:\n",
    "    write_api = client.write_api(write_options=SYNCHRONOUS)\n",
    "    dataCollect = sdf_scaled.collect()\n",
    "    for row in dataCollect:\n",
    "        for col in cols_saved:\n",
    "            p = influxdb_client.Point(\"swat_dashboard_1\").field(col, row[col])\n",
    "            write_api.write(bucket, org, p)"
   ]
  },
  {
   "cell_type": "code",
   "execution_count": null,
   "id": "0f87e3b5-cfbd-4c98-bb3c-054f03608c2d",
   "metadata": {},
   "outputs": [],
   "source": []
  }
 ],
 "metadata": {
  "kernelspec": {
   "display_name": "Python 3 (ipykernel)",
   "language": "python",
   "name": "python3"
  },
  "language_info": {
   "codemirror_mode": {
    "name": "ipython",
    "version": 3
   },
   "file_extension": ".py",
   "mimetype": "text/x-python",
   "name": "python",
   "nbconvert_exporter": "python",
   "pygments_lexer": "ipython3",
   "version": "3.10.6"
  }
 },
 "nbformat": 4,
 "nbformat_minor": 5
}
