{
 "cells": [
  {
   "cell_type": "markdown",
   "id": "1671479b-fee0-4811-89b9-2d90f91da48c",
   "metadata": {},
   "source": [
    "# Stream, Run Sketches, Save to Influx"
   ]
  },
  {
   "cell_type": "code",
   "execution_count": 2,
   "id": "c6ec8dc7-aa70-401a-a724-3e20ee7b0ef7",
   "metadata": {},
   "outputs": [
    {
     "name": "stdout",
     "output_type": "stream",
     "text": [
      "Collecting mmh3\n",
      "  Downloading mmh3-3.0.0.tar.gz (10 kB)\n",
      "  Preparing metadata (setup.py) ... \u001b[?25ldone\n",
      "\u001b[?25hBuilding wheels for collected packages: mmh3\n",
      "  Building wheel for mmh3 (setup.py) ... \u001b[?25ldone\n",
      "\u001b[?25h  Created wheel for mmh3: filename=mmh3-3.0.0-cp310-cp310-linux_x86_64.whl size=10840 sha256=a0171ddb30b22a5867a0a970553b8aa7442de706df50fa35b0e806c1a5b9c0ef\n",
      "  Stored in directory: /home/jovyan/.cache/pip/wheels/00/62/4e/dc5414f9be1561daee8748ff8882d446d15e44ed2d997f2536\n",
      "Successfully built mmh3\n",
      "Installing collected packages: mmh3\n",
      "Successfully installed mmh3-3.0.0\n"
     ]
    }
   ],
   "source": [
    "!pip install mmh3"
   ]
  },
  {
   "cell_type": "code",
   "execution_count": 4,
   "id": "4b540140-c0e6-45fb-867d-d4a0b51b04ca",
   "metadata": {
    "collapsed": true,
    "jupyter": {
     "outputs_hidden": true
    },
    "tags": []
   },
   "outputs": [
    {
     "name": "stderr",
     "output_type": "stream",
     "text": [
      "/usr/local/spark/python/pyspark/sql/pandas/conversion.py:474: FutureWarning: iteritems is deprecated and will be removed in a future version. Use .items instead.\n",
      "  for column, series in pdf.iteritems():\n",
      "/usr/local/spark/python/pyspark/sql/pandas/conversion.py:486: FutureWarning: iteritems is deprecated and will be removed in a future version. Use .items instead.\n",
      "  for column, series in pdf.iteritems():\n"
     ]
    },
    {
     "name": "stdout",
     "output_type": "stream",
     "text": [
      "+--------------------+----------+----------+------+--------+-----------+-----------+----------+--------+----------+----------+--------+--------+--------+--------+-----+--------+-----------+-----------+-----------+-----------+-----------+-----------+-----------+-----------+--------+----------+----------+----------+----------+----------+------+------+------+------+--------+-----------+-----------+-------+----------+-----------+----------+--------+--------+-----------+-----------+-----------+-----------+-----+----------+----------+----------+----------+-----------+-----------+-----------+----------+------+------+------+------+--------+-----------+-----------+----------+----------+----------+----------+-------+-------+--------+--------+--------+-------+--------+-----------+-----------+-----------+\n",
      "|              GMT +0|   FIT 101|   LIT 101|MV 101|P1_STATE|P101 Status|P102 Status|   AIT 201| AIT 202|   AIT 203|   FIT 201|  LS 201|  LS 202| LSL 203|LSLL 203|MV201|P2_STATE|P201 Status|P202 Status|P203 Status|P204 Status|P205 Status|P206 Status|P207 Status|P208 Status| AIT 301|   AIT 302|   AIT 303|  DPIT 301|   FIT 301|   LIT 301|MV 301|MV 302|MV 303|MV 304|P3_STATE|P301 Status|P302 Status|AIT 401|   AIT 402|    FIT 401|   LIT 401|  LS 401|P4_STATE|P401 Status|P402 Status|P403 Status|P404 Status|UV401|   AIT 501|   AIT 502|   AIT 503|   AIT 504|    FIT 501|    FIT 502|    FIT 503|   FIT 504|MV 501|MV 502|MV 503|MV 504|P5_STATE|P501 Status|P502 Status|   PIT 501|   PIT 502|   PIT 503|   FIT 601|LSH 601|LSH 602| LSH 603| LSL 601| LSL 602|LSL 603|P6 STATE|P601 Status|P602 Status|P603 Status|\n",
      "+--------------------+----------+----------+------+--------+-----------+-----------+----------+--------+----------+----------+--------+--------+--------+--------+-----+--------+-----------+-----------+-----------+-----------+-----------+-----------+-----------+-----------+--------+----------+----------+----------+----------+----------+------+------+------+------+--------+-----------+-----------+-------+----------+-----------+----------+--------+--------+-----------+-----------+-----------+-----------+-----+----------+----------+----------+----------+-----------+-----------+-----------+----------+------+------+------+------+--------+-----------+-----------+----------+----------+----------+----------+-------+-------+--------+--------+--------+-------+--------+-----------+-----------+-----------+\n",
      "|2019-07-20 08:39:...|4.32373571|492.896881|     2|       2|          2|          1|131.408615|9.313829|257.933868|2.31365132|Inactive|Inactive|Inactive|Inactive|    2|       2|          1|          1|          2|          1|          2|          1|          1|          1|8.744734|273.103271|134.227539|12.2222929|1.71937346|   883.908|     1|     2|     1|     1|       7|          2|          1|      0|   3.74263|0.807990253|    962.83|Inactive|       4|          2|          1|          1|          1|    2|7.76582956|63.7528839|1016.21381|24.8397846|0.808126152|0.363007575|  0.6059598|0.20990935|     2|     2|     1|     1|      12|          2|          1|  158.8535|2.49895883|113.784927|3.20379E-4| Active| Active|Inactive|Inactive|Inactive| Active|       2|          1|          1|          1|\n",
      "|2019-07-20 08:39:...|4.32373571|  492.4651|     2|       2|          2|          1|131.408615|9.316713|257.703156|2.31365132|Inactive|Inactive|Inactive|Inactive|    2|       2|          1|          1|          2|          1|          2|          1|          1|          1|8.744734|273.103271|134.227539|12.2222929|1.71937346|   883.908|     1|     2|     1|     1|       7|          2|          1|      0|   3.74263|  0.8086305|962.445557|Inactive|       4|          2|          1|          1|          1|    2|7.76582956|63.7528839|1016.21381|24.8397846| 0.80953604|0.357115418|  0.6059598|0.20990935|     2|     2|     1|     1|      12|          2|          1|  158.8535|2.49895883|113.784927|3.20379E-4| Active| Active|Inactive|Inactive|Inactive| Active|       2|          1|          1|          1|\n",
      "|2019-07-20 08:39:...|4.30355835|  492.3081|     2|       2|          2|          1|131.408615|9.317354|257.703156|2.31365132|Inactive|Inactive|Inactive|Inactive|    2|       2|          1|          1|          2|          1|          2|          1|          1|          1|8.744734|273.103271|134.227539|12.2222929|1.71937346|883.387268|     1|     2|     1|     1|       7|          2|          1|      0|   3.74263| 0.80927074|962.637756|Inactive|       4|          2|          1|          1|          1|    2|7.76582956|63.7528839|1016.21381|24.8397846| 0.80953604|0.369155884|  0.6059598|0.20990935|     2|     2|     1|     1|      12|          2|          1|  158.8535|2.49895883|113.784927|3.20379E-4| Active| Active|Inactive|Inactive|Inactive| Active|       2|          1|          1|          1|\n",
      "|2019-07-20 08:39:...|4.25391531|491.405273|     2|       2|          2|          1|131.408615|9.317354|257.703156|2.31429219|Inactive|Inactive|Inactive|Inactive|    2|       2|          1|          1|          2|          1|          2|          1|          1|          1|8.744734|273.103271|134.227539|12.2222929|1.71937346|883.227051|     1|     2|     1|     1|       7|          2|          1|      0|   3.74263| 0.80927074|962.137939|Inactive|       4|          2|          1|          1|          1|    2|7.76582956|63.7528839|1016.21381|24.8397846| 0.80953604|0.374023318|  0.6059598|0.20990935|     2|     2|     1|     1|      12|          2|          1|158.805435|2.49895883|113.784927|3.20379E-4| Active| Active|Inactive|Inactive|Inactive| Active|       2|          1|          1|          1|\n",
      "|2019-07-20 08:39:...|  4.200429|491.169769|     2|       2|          2|          1|131.408615|9.319918|257.703156|2.31608629|Inactive|Inactive|Inactive|Inactive|    2|       2|          1|          1|          2|          1|          2|          1|          1|          1|8.744734|273.103271|134.227539|12.2222929|1.71847665|883.227051|     1|     2|     1|     1|       7|          2|          1|      0|3.69136119| 0.80927074|  961.8688|Inactive|       4|          2|          1|          1|          1|    2|7.76582956|63.7528839|1016.21381|24.8397846| 0.80953604|0.366594076|0.607752144|0.20990935|     2|     2|     1|     1|      12|          2|          1|158.773392|2.49895883|113.784927|3.20379E-4| Active| Active|Inactive|Inactive|Inactive| Active|       2|          1|          1|          1|\n",
      "+--------------------+----------+----------+------+--------+-----------+-----------+----------+--------+----------+----------+--------+--------+--------+--------+-----+--------+-----------+-----------+-----------+-----------+-----------+-----------+-----------+-----------+--------+----------+----------+----------+----------+----------+------+------+------+------+--------+-----------+-----------+-------+----------+-----------+----------+--------+--------+-----------+-----------+-----------+-----------+-----+----------+----------+----------+----------+-----------+-----------+-----------+----------+------+------+------+------+--------+-----------+-----------+----------+----------+----------+----------+-------+-------+--------+--------+--------+-------+--------+-----------+-----------+-----------+\n",
      "only showing top 5 rows\n",
      "\n"
     ]
    }
   ],
   "source": [
    "from pyspark.sql import SparkSession\n",
    "import pandas as pd\n",
    "\n",
    "df = pd.read_excel('./../SWaT_dataset_Jul 19 v2.xlsx', parse_dates = ['GMT +0'])\n",
    "\n",
    "spark = SparkSession.builder.appName(\"Test\").getOrCreate()\n",
    "sdf = spark.createDataFrame(df) \n",
    "sdf.show(5)"
   ]
  },
  {
   "cell_type": "code",
   "execution_count": 138,
   "id": "b2a8f738-1c03-44f1-af31-db6f8a760047",
   "metadata": {},
   "outputs": [],
   "source": [
    "# from sklearn.preprocessing import MinMaxScaler\n",
    "# import matplotlib.pyplot as plt\n",
    "\n",
    "# scaler = MinMaxScaler()\n",
    "\n",
    "# col = np.array(sdf.select('FIT 401').collect())\n",
    "\n",
    "# col = scaler.fit_transform(col).flatten()\n",
    "\n",
    "# col = np.around(col).astype(int)\n",
    "\n",
    "# # plt.plot(col)\n",
    "# # plt.show()"
   ]
  },
  {
   "cell_type": "code",
   "execution_count": null,
   "id": "ff86ff5f-efe4-4b75-b3ed-75b7cd3be932",
   "metadata": {},
   "outputs": [],
   "source": []
  },
  {
   "cell_type": "code",
   "execution_count": 67,
   "id": "c183a39a-ceba-4c31-a7e8-907a16dcc455",
   "metadata": {
    "jupyter": {
     "source_hidden": true
    },
    "tags": []
   },
   "outputs": [],
   "source": [
    "param_w = 10\n",
    "param_d = 3\n",
    "seeds = np.random.randint(param_w, size = param_d)\n",
    "\n",
    "cm = CountMinSketch(0, 10, seeds)"
   ]
  },
  {
   "cell_type": "code",
   "execution_count": null,
   "id": "e31eddd6-9601-4d26-8499-29be0a1a899c",
   "metadata": {
    "jupyter": {
     "source_hidden": true
    },
    "tags": []
   },
   "outputs": [],
   "source": [
    "for item in stream:\n",
    "        print('1')\n",
    "        # print(item)\n",
    "        # for each row in the sketch\n",
    "        for i in range(k):\n",
    "            # hash the item\n",
    "            hash_value = mmh3.hash(item)\n",
    "            print(hash_value)\n",
    "            # increment the corresponding cell in the sketch\n",
    "            count_min_sketch[i, hash_value] += 1\n",
    "    return count_min_sketch"
   ]
  },
  {
   "cell_type": "code",
   "execution_count": 3,
   "id": "4867acfb-23e4-42b6-8d27-eb678ad4d71f",
   "metadata": {
    "jupyter": {
     "source_hidden": true
    },
    "tags": []
   },
   "outputs": [],
   "source": [
    "import numpy as np\n",
    "import mmh3\n",
    "\n",
    "class CountMinSketch(object):\n",
    "    ''' Class for a CountMinSketch data structure\n",
    "    '''\n",
    "    def __init__(self, width, depth, seeds):\n",
    "        ''' Method to initialize the data structure\n",
    "        @param width int: Width of the table\n",
    "        @param depth int: Depth of the table (num of hash func)\n",
    "        @param seeds list: Random seed list\n",
    "        '''\n",
    "        self.width = width\n",
    "        self.depth = depth\n",
    "        self.table = np.zeros([depth, width])  # Create empty table\n",
    "        self.seed = seeds # np.random.randint(w, size = d) // create some seeds\n",
    "\n",
    "    def increment(self, key):\n",
    "        ''' Method to add a key to the CMS\n",
    "        @param key str: A string to add to the CMS\n",
    "        '''\n",
    "        for i in range(0, self.depth):\n",
    "            index = mmh3.hash(key, self.seed[i]) % self.width\n",
    "            self.table[i, index] = self.table[i, index]+1\n",
    "\n",
    "    def estimate(self, key):\n",
    "        ''' Method to estimate if a key is in a CMS\n",
    "        @param key str: A string to check\n",
    "        '''\n",
    "        min_est = self.width\n",
    "        for i in range(0, self.depth):\n",
    "            index = mmh3.hash(key, self.seed[i]) % self.width\n",
    "            if self.table[i, index] < min_est:\n",
    "                min_est = self.table[i, index]\n",
    "        return min_est\n",
    "\n",
    "    def merge(self, new_cms):\n",
    "        ''' Method to combine two count min sketches\n",
    "        @param new_cms CountMinSketch: Another CMS object\n",
    "        '''\n",
    "        return self.table + new_cms"
   ]
  },
  {
   "cell_type": "code",
   "execution_count": null,
   "id": "791bb5a2-18f5-4396-83ad-ce6d8a43db79",
   "metadata": {},
   "outputs": [],
   "source": []
  },
  {
   "cell_type": "code",
   "execution_count": 92,
   "id": "e94361e1-dde1-4969-b217-b803be0ec2e7",
   "metadata": {
    "collapsed": true,
    "jupyter": {
     "outputs_hidden": true,
     "source_hidden": true
    },
    "tags": []
   },
   "outputs": [
    {
     "ename": "ModuleNotFoundError",
     "evalue": "No module named 'hashfactory'",
     "output_type": "error",
     "traceback": [
      "\u001b[0;31m---------------------------------------------------------------------------\u001b[0m",
      "\u001b[0;31mModuleNotFoundError\u001b[0m                       Traceback (most recent call last)",
      "Cell \u001b[0;32mIn [92], line 1\u001b[0m\n\u001b[0;32m----> 1\u001b[0m \u001b[38;5;28;01mfrom\u001b[39;00m \u001b[38;5;21;01mhashfactory\u001b[39;00m \u001b[38;5;28;01mimport\u001b[39;00m hash_function\n\u001b[1;32m      2\u001b[0m \u001b[38;5;28;01mfrom\u001b[39;00m \u001b[38;5;21;01mcountminsketch\u001b[39;00m \u001b[38;5;28;01mimport\u001b[39;00m CountMinSketch\n\u001b[1;32m      4\u001b[0m depth \u001b[38;5;241m=\u001b[39m \u001b[38;5;241m8\u001b[39m\n",
      "\u001b[0;31mModuleNotFoundError\u001b[0m: No module named 'hashfactory'"
     ]
    }
   ],
   "source": [
    "from hashfactory import hash_function\n",
    "from countminsketch import CountMinSketch\n",
    "\n",
    "depth = 8\n",
    "width = 2**22\n",
    "hash_functions = [hash_function(i) for i in range(depth)]\n",
    "sketch = CountMinSketch(depth, width, hash_functions)"
   ]
  },
  {
   "cell_type": "code",
   "execution_count": null,
   "id": "bac1766b-edba-4f09-b6da-0eb8ade4ddc7",
   "metadata": {},
   "outputs": [],
   "source": []
  },
  {
   "cell_type": "code",
   "execution_count": 91,
   "id": "1671d07e-8fb0-4db3-838b-6740e149402f",
   "metadata": {
    "collapsed": true,
    "jupyter": {
     "outputs_hidden": true
    },
    "tags": []
   },
   "outputs": [
    {
     "name": "stdout",
     "output_type": "stream",
     "text": [
      "1\n",
      "-142385009\n"
     ]
    },
    {
     "ename": "IndexError",
     "evalue": "index -142385009 is out of bounds for axis 1 with size 1000000",
     "output_type": "error",
     "traceback": [
      "\u001b[0;31m---------------------------------------------------------------------------\u001b[0m",
      "\u001b[0;31mIndexError\u001b[0m                                Traceback (most recent call last)",
      "Cell \u001b[0;32mIn [91], line 21\u001b[0m\n\u001b[1;32m     19\u001b[0m stream \u001b[38;5;241m=\u001b[39m col\n\u001b[1;32m     20\u001b[0m \u001b[38;5;66;03m# create a count-min sketch with 5 rows and 1000 columns\u001b[39;00m\n\u001b[0;32m---> 21\u001b[0m count_min_sketch \u001b[38;5;241m=\u001b[39m \u001b[43mcount_min_sketch\u001b[49m\u001b[43m(\u001b[49m\u001b[43mstream\u001b[49m\u001b[43m,\u001b[49m\u001b[43m \u001b[49m\u001b[38;5;241;43m10\u001b[39;49m\u001b[43m,\u001b[49m\u001b[43m \u001b[49m\u001b[38;5;241;43m10\u001b[39;49m\u001b[38;5;241;43m*\u001b[39;49m\u001b[38;5;241;43m*\u001b[39;49m\u001b[38;5;241;43m6\u001b[39;49m\u001b[43m)\u001b[49m\n\u001b[1;32m     22\u001b[0m \u001b[38;5;28mprint\u001b[39m(count_min_sketch)\n",
      "Cell \u001b[0;32mIn [91], line 14\u001b[0m, in \u001b[0;36mcount_min_sketch\u001b[0;34m(stream, k, d)\u001b[0m\n\u001b[1;32m     12\u001b[0m         \u001b[38;5;28mprint\u001b[39m(hash_value)\n\u001b[1;32m     13\u001b[0m         \u001b[38;5;66;03m# increment the corresponding cell in the sketch\u001b[39;00m\n\u001b[0;32m---> 14\u001b[0m         count_min_sketch[i, hash_value] \u001b[38;5;241m+\u001b[39m\u001b[38;5;241m=\u001b[39m \u001b[38;5;241m1\u001b[39m\n\u001b[1;32m     15\u001b[0m \u001b[38;5;28;01mreturn\u001b[39;00m count_min_sketch\n",
      "\u001b[0;31mIndexError\u001b[0m: index -142385009 is out of bounds for axis 1 with size 1000000"
     ]
    }
   ],
   "source": []
  },
  {
   "cell_type": "code",
   "execution_count": null,
   "id": "64a6da12-b213-40e8-ba4b-5ca1072e76bb",
   "metadata": {},
   "outputs": [],
   "source": []
  },
  {
   "cell_type": "code",
   "execution_count": null,
   "id": "a0502c1c-eaa8-4d80-92da-b1fe7ad88c41",
   "metadata": {},
   "outputs": [],
   "source": []
  },
  {
   "cell_type": "markdown",
   "id": "f25d2e8e-3b56-4e07-a03e-02a7782d8779",
   "metadata": {
    "jp-MarkdownHeadingCollapsed": true,
    "tags": []
   },
   "source": [
    "## Flajolet-Martin Algorithm"
   ]
  },
  {
   "cell_type": "code",
   "execution_count": 144,
   "id": "924c8f1a-d233-4627-a9c5-f1d240ef746c",
   "metadata": {
    "tags": []
   },
   "outputs": [
    {
     "name": "stdout",
     "output_type": "stream",
     "text": [
      "Using Flajolet Martin Algorithm:\n"
     ]
    }
   ],
   "source": [
    "print('Using Flajolet Martin Algorithm:')\n",
    "\n",
    "def flajolet_martin(stream, name):\n",
    "    maxnum=0\n",
    "    for i in range(0,len(stream)):\n",
    "        val= bin((1*stream[i] + 6) % 32)[2:]\n",
    "\n",
    "        sum=0\n",
    "        for j in range(len(val)-1,0,-1):\n",
    "\n",
    "            if val[j]=='0':\n",
    "                sum+=1\n",
    "            else:\n",
    "                break\n",
    "        if sum>maxnum:\n",
    "            maxnum=sum\n",
    "\n",
    "    print('distict elements in ', name, ' are ', 2**maxnum)\n",
    "    \n"
   ]
  },
  {
   "cell_type": "code",
   "execution_count": 145,
   "id": "b2f2683b-f550-4178-818e-e3abcd57dded",
   "metadata": {
    "tags": []
   },
   "outputs": [
    {
     "name": "stdout",
     "output_type": "stream",
     "text": [
      "[0 0 0 ... 0 0 0]\n",
      "distict elements in  FIT 401  are  2\n",
      "[883 883 883 ... 732 730 730]\n",
      "distict elements in  LIT 301  are  16\n"
     ]
    }
   ],
   "source": [
    "for k in [\"FIT 401\", \"LIT 301\"]:\n",
    "    col = np.array(sdf.select(k).collect()).flatten().astype(int)\n",
    "    # col = np.around(col)\n",
    "    print(col)\n",
    "    flajolet_martin(col, k)\n",
    "\n"
   ]
  },
  {
   "cell_type": "code",
   "execution_count": null,
   "id": "4ec9cd05-d8fa-4a00-9729-5ff936e2a8c3",
   "metadata": {},
   "outputs": [],
   "source": []
  },
  {
   "cell_type": "code",
   "execution_count": null,
   "id": "fa133262-f7ab-4adf-912e-aab7192ff9b3",
   "metadata": {},
   "outputs": [],
   "source": []
  },
  {
   "cell_type": "code",
   "execution_count": null,
   "id": "7c6fb9c3-207d-407a-973f-93c2ae46b07b",
   "metadata": {},
   "outputs": [],
   "source": []
  },
  {
   "cell_type": "code",
   "execution_count": null,
   "id": "759563fd-54cd-4ee4-a55f-8adff09658bf",
   "metadata": {},
   "outputs": [],
   "source": []
  },
  {
   "cell_type": "markdown",
   "id": "49f299b2-a4ee-4a2a-9c0a-13ed2e7f479c",
   "metadata": {
    "jp-MarkdownHeadingCollapsed": true,
    "tags": []
   },
   "source": [
    "## Frequency SpaceSaving"
   ]
  },
  {
   "cell_type": "code",
   "execution_count": 169,
   "id": "a46e306b-33e8-4772-9424-d7adb8977587",
   "metadata": {
    "jupyter": {
     "source_hidden": true
    },
    "tags": []
   },
   "outputs": [
    {
     "data": {
      "text/plain": [
       "{5: 15}"
      ]
     },
     "execution_count": 169,
     "metadata": {},
     "output_type": "execute_result"
    }
   ],
   "source": [
    "import math, heapq\n",
    "\n",
    "class SpaceSavingCounter:\n",
    "    def __init__(self, eps):\n",
    "        self.k = math.ceil(1/eps)\n",
    "        self.n = 0\n",
    "        self.counts = dict()\n",
    "        self.queue = []\n",
    "\n",
    "    def inc(self, x):\n",
    "        # increment total elements seen\n",
    "        self.n += 1\n",
    "\n",
    "        # x is being watched\n",
    "        if x in self.counts:\n",
    "            self.counts[x] += 1\n",
    "\n",
    "        # x is not being watched\n",
    "        else:\n",
    "            # make room for x\n",
    "            if self.n > self.k:\n",
    "                while True:\n",
    "                    count, tstamp, key = self.pop()\n",
    "                    assert self.counts[key] >= count\n",
    "                    if self.counts[key] == count:\n",
    "                        del self.counts[key]\n",
    "                        break\n",
    "                    else:\n",
    "                        self.push(self.counts[key], tstamp, key)\n",
    "            else:\n",
    "                count = 0\n",
    "\n",
    "            # watch x\n",
    "            self.counts[x] = count + 1\n",
    "            self.push(count, self.n, x)\n",
    "\n",
    "\n",
    "    def push(self, count, tstamp, key):\n",
    "        heapq.heappush(\n",
    "            self.queue,\n",
    "            (count, tstamp, key)\n",
    "        )\n",
    "\n",
    "    def pop(self):\n",
    "        return heapq.heappop(self.queue)\n",
    "    \n",
    "\n",
    "# seq = [5, 5, 9, 9, 1, 2, 3, 4, 5, 6, 7, 8, 5, 9, 5]\n",
    "counter = SpaceSavingCounter(3)\n",
    "for x in seq:\n",
    "    counter.inc(x)"
   ]
  },
  {
   "cell_type": "code",
   "execution_count": 171,
   "id": "70ae645a-e3d9-47bb-ba83-bca5fce3c790",
   "metadata": {},
   "outputs": [
    {
     "name": "stdout",
     "output_type": "stream",
     "text": [
      "P601 Status {1: 89991}\n",
      "MV201 {2: 104987}\n",
      "P101 Status {2: 119983}\n",
      "MV 501 {2: 134979}\n",
      "P301 Status {1: 149975}\n"
     ]
    }
   ],
   "source": [
    "for k in [\"P601 Status\",\"MV201\", \"P101 Status\", \"MV 501\", \"P301 Status\"]:\n",
    "    stream = np.array(sdf.select(k).collect()).flatten()\n",
    "    # col = np.around(col)\n",
    "    # print(col)\n",
    "    # flajolet_martin(col, k)\n",
    "    for x in stream:\n",
    "        counter.inc(x)\n",
    "    print(k,counter.counts)"
   ]
  },
  {
   "cell_type": "code",
   "execution_count": null,
   "id": "8e2ac879-4a91-47ca-a798-245aaab6c01d",
   "metadata": {},
   "outputs": [],
   "source": []
  },
  {
   "cell_type": "code",
   "execution_count": null,
   "id": "c96a9bd9-d6d5-42bd-99ad-3856e5615e6f",
   "metadata": {},
   "outputs": [],
   "source": []
  },
  {
   "cell_type": "code",
   "execution_count": null,
   "id": "65301046-7952-4831-92af-79b05ba3b424",
   "metadata": {},
   "outputs": [],
   "source": []
  }
 ],
 "metadata": {
  "kernelspec": {
   "display_name": "Python 3 (ipykernel)",
   "language": "python",
   "name": "python3"
  },
  "language_info": {
   "codemirror_mode": {
    "name": "ipython",
    "version": 3
   },
   "file_extension": ".py",
   "mimetype": "text/x-python",
   "name": "python",
   "nbconvert_exporter": "python",
   "pygments_lexer": "ipython3",
   "version": "3.10.6"
  }
 },
 "nbformat": 4,
 "nbformat_minor": 5
}
