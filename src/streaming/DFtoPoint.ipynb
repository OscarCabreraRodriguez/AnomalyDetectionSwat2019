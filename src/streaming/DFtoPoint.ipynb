{
 "cells": [
  {
   "cell_type": "markdown",
   "id": "15d6fe77-0d82-411a-8e9c-60b2abfd2387",
   "metadata": {},
   "source": [
    "# Reading and storing Pyspark dataframe to InfluxDB"
   ]
  },
  {
   "cell_type": "code",
   "execution_count": 1,
   "id": "b04f711d-6634-4f19-8036-a6b9b03a3bcb",
   "metadata": {},
   "outputs": [
    {
     "name": "stdout",
     "output_type": "stream",
     "text": [
      "Collecting influxdb_client\n",
      "  Downloading influxdb_client-1.34.0-py3-none-any.whl (707 kB)\n",
      "\u001b[2K     \u001b[90m━━━━━━━━━━━━━━━━━━━━━━━━━━━━━━━━━━━━━━━\u001b[0m \u001b[32m707.8/707.8 kB\u001b[0m \u001b[31m3.9 MB/s\u001b[0m eta \u001b[36m0:00:00\u001b[0m00:01\u001b[0m00:01\u001b[0m\n",
      "\u001b[?25hCollecting influxdb\n",
      "  Downloading influxdb-5.3.1-py2.py3-none-any.whl (77 kB)\n",
      "\u001b[2K     \u001b[90m━━━━━━━━━━━━━━━━━━━━━━━━━━━━━━━━━━━━━━━━\u001b[0m \u001b[32m77.9/77.9 kB\u001b[0m \u001b[31m2.7 MB/s\u001b[0m eta \u001b[36m0:00:00\u001b[0m\n",
      "\u001b[?25hRequirement already satisfied: certifi>=14.05.14 in /opt/conda/lib/python3.10/site-packages (from influxdb_client) (2022.9.24)\n",
      "Requirement already satisfied: python-dateutil>=2.5.3 in /opt/conda/lib/python3.10/site-packages (from influxdb_client) (2.8.2)\n",
      "Requirement already satisfied: setuptools>=21.0.0 in /opt/conda/lib/python3.10/site-packages (from influxdb_client) (65.5.1)\n",
      "Collecting reactivex>=4.0.4\n",
      "  Downloading reactivex-4.0.4-py3-none-any.whl (217 kB)\n",
      "\u001b[2K     \u001b[90m━━━━━━━━━━━━━━━━━━━━━━━━━━━━━━━━━━━━━━━\u001b[0m \u001b[32m217.8/217.8 kB\u001b[0m \u001b[31m5.3 MB/s\u001b[0m eta \u001b[36m0:00:00\u001b[0m00:01\u001b[0m\n",
      "\u001b[?25hRequirement already satisfied: urllib3>=1.26.0 in /opt/conda/lib/python3.10/site-packages (from influxdb_client) (1.26.11)\n",
      "Requirement already satisfied: requests>=2.17.0 in /opt/conda/lib/python3.10/site-packages (from influxdb) (2.28.1)\n",
      "Requirement already satisfied: six>=1.10.0 in /opt/conda/lib/python3.10/site-packages (from influxdb) (1.16.0)\n",
      "Requirement already satisfied: msgpack in /opt/conda/lib/python3.10/site-packages (from influxdb) (1.0.4)\n",
      "Requirement already satisfied: pytz in /opt/conda/lib/python3.10/site-packages (from influxdb) (2022.6)\n",
      "Requirement already satisfied: typing-extensions<5.0.0,>=4.1.1 in /opt/conda/lib/python3.10/site-packages (from reactivex>=4.0.4->influxdb_client) (4.4.0)\n",
      "Requirement already satisfied: idna<4,>=2.5 in /opt/conda/lib/python3.10/site-packages (from requests>=2.17.0->influxdb) (3.4)\n",
      "Requirement already satisfied: charset-normalizer<3,>=2 in /opt/conda/lib/python3.10/site-packages (from requests>=2.17.0->influxdb) (2.1.1)\n",
      "Installing collected packages: reactivex, influxdb_client, influxdb\n",
      "Successfully installed influxdb-5.3.1 influxdb_client-1.34.0 reactivex-4.0.4\n"
     ]
    }
   ],
   "source": [
    "!pip install influxdb_client influxdb"
   ]
  },
  {
   "cell_type": "markdown",
   "id": "dbfa3484-f2c1-47b8-a597-40a31fa50743",
   "metadata": {},
   "source": [
    "## Reading the excel to DataFrame then converting it to Spark Dataframe"
   ]
  },
  {
   "cell_type": "code",
   "execution_count": 2,
   "id": "892b8da7-ea6d-4330-ae52-ba5ca186957c",
   "metadata": {},
   "outputs": [
    {
     "name": "stderr",
     "output_type": "stream",
     "text": [
      "/usr/local/spark/python/pyspark/sql/pandas/conversion.py:474: FutureWarning: iteritems is deprecated and will be removed in a future version. Use .items instead.\n",
      "  for column, series in pdf.iteritems():\n",
      "/usr/local/spark/python/pyspark/sql/pandas/conversion.py:486: FutureWarning: iteritems is deprecated and will be removed in a future version. Use .items instead.\n",
      "  for column, series in pdf.iteritems():\n"
     ]
    },
    {
     "name": "stdout",
     "output_type": "stream",
     "text": [
      "+--------------------+----------+----------+------+--------+-----------+-----------+----------+--------+----------+----------+--------+--------+--------+--------+-----+--------+-----------+-----------+-----------+-----------+-----------+-----------+-----------+-----------+--------+----------+----------+----------+----------+----------+------+------+------+------+--------+-----------+-----------+-------+----------+-----------+----------+--------+--------+-----------+-----------+-----------+-----------+-----+----------+----------+----------+----------+-----------+-----------+-----------+----------+------+------+------+------+--------+-----------+-----------+----------+----------+----------+----------+-------+-------+--------+--------+--------+-------+--------+-----------+-----------+-----------+\n",
      "|              GMT +0|   FIT 101|   LIT 101|MV 101|P1_STATE|P101 Status|P102 Status|   AIT 201| AIT 202|   AIT 203|   FIT 201|  LS 201|  LS 202| LSL 203|LSLL 203|MV201|P2_STATE|P201 Status|P202 Status|P203 Status|P204 Status|P205 Status|P206 Status|P207 Status|P208 Status| AIT 301|   AIT 302|   AIT 303|  DPIT 301|   FIT 301|   LIT 301|MV 301|MV 302|MV 303|MV 304|P3_STATE|P301 Status|P302 Status|AIT 401|   AIT 402|    FIT 401|   LIT 401|  LS 401|P4_STATE|P401 Status|P402 Status|P403 Status|P404 Status|UV401|   AIT 501|   AIT 502|   AIT 503|   AIT 504|    FIT 501|    FIT 502|    FIT 503|   FIT 504|MV 501|MV 502|MV 503|MV 504|P5_STATE|P501 Status|P502 Status|   PIT 501|   PIT 502|   PIT 503|   FIT 601|LSH 601|LSH 602| LSH 603| LSL 601| LSL 602|LSL 603|P6 STATE|P601 Status|P602 Status|P603 Status|\n",
      "+--------------------+----------+----------+------+--------+-----------+-----------+----------+--------+----------+----------+--------+--------+--------+--------+-----+--------+-----------+-----------+-----------+-----------+-----------+-----------+-----------+-----------+--------+----------+----------+----------+----------+----------+------+------+------+------+--------+-----------+-----------+-------+----------+-----------+----------+--------+--------+-----------+-----------+-----------+-----------+-----+----------+----------+----------+----------+-----------+-----------+-----------+----------+------+------+------+------+--------+-----------+-----------+----------+----------+----------+----------+-------+-------+--------+--------+--------+-------+--------+-----------+-----------+-----------+\n",
      "|2019-07-20 08:39:...|4.32373571|492.896881|     2|       2|          2|          1|131.408615|9.313829|257.933868|2.31365132|Inactive|Inactive|Inactive|Inactive|    2|       2|          1|          1|          2|          1|          2|          1|          1|          1|8.744734|273.103271|134.227539|12.2222929|1.71937346|   883.908|     1|     2|     1|     1|       7|          2|          1|      0|   3.74263|0.807990253|    962.83|Inactive|       4|          2|          1|          1|          1|    2|7.76582956|63.7528839|1016.21381|24.8397846|0.808126152|0.363007575|  0.6059598|0.20990935|     2|     2|     1|     1|      12|          2|          1|  158.8535|2.49895883|113.784927|3.20379E-4| Active| Active|Inactive|Inactive|Inactive| Active|       2|          1|          1|          1|\n",
      "|2019-07-20 08:39:...|4.32373571|  492.4651|     2|       2|          2|          1|131.408615|9.316713|257.703156|2.31365132|Inactive|Inactive|Inactive|Inactive|    2|       2|          1|          1|          2|          1|          2|          1|          1|          1|8.744734|273.103271|134.227539|12.2222929|1.71937346|   883.908|     1|     2|     1|     1|       7|          2|          1|      0|   3.74263|  0.8086305|962.445557|Inactive|       4|          2|          1|          1|          1|    2|7.76582956|63.7528839|1016.21381|24.8397846| 0.80953604|0.357115418|  0.6059598|0.20990935|     2|     2|     1|     1|      12|          2|          1|  158.8535|2.49895883|113.784927|3.20379E-4| Active| Active|Inactive|Inactive|Inactive| Active|       2|          1|          1|          1|\n",
      "|2019-07-20 08:39:...|4.30355835|  492.3081|     2|       2|          2|          1|131.408615|9.317354|257.703156|2.31365132|Inactive|Inactive|Inactive|Inactive|    2|       2|          1|          1|          2|          1|          2|          1|          1|          1|8.744734|273.103271|134.227539|12.2222929|1.71937346|883.387268|     1|     2|     1|     1|       7|          2|          1|      0|   3.74263| 0.80927074|962.637756|Inactive|       4|          2|          1|          1|          1|    2|7.76582956|63.7528839|1016.21381|24.8397846| 0.80953604|0.369155884|  0.6059598|0.20990935|     2|     2|     1|     1|      12|          2|          1|  158.8535|2.49895883|113.784927|3.20379E-4| Active| Active|Inactive|Inactive|Inactive| Active|       2|          1|          1|          1|\n",
      "|2019-07-20 08:39:...|4.25391531|491.405273|     2|       2|          2|          1|131.408615|9.317354|257.703156|2.31429219|Inactive|Inactive|Inactive|Inactive|    2|       2|          1|          1|          2|          1|          2|          1|          1|          1|8.744734|273.103271|134.227539|12.2222929|1.71937346|883.227051|     1|     2|     1|     1|       7|          2|          1|      0|   3.74263| 0.80927074|962.137939|Inactive|       4|          2|          1|          1|          1|    2|7.76582956|63.7528839|1016.21381|24.8397846| 0.80953604|0.374023318|  0.6059598|0.20990935|     2|     2|     1|     1|      12|          2|          1|158.805435|2.49895883|113.784927|3.20379E-4| Active| Active|Inactive|Inactive|Inactive| Active|       2|          1|          1|          1|\n",
      "|2019-07-20 08:39:...|  4.200429|491.169769|     2|       2|          2|          1|131.408615|9.319918|257.703156|2.31608629|Inactive|Inactive|Inactive|Inactive|    2|       2|          1|          1|          2|          1|          2|          1|          1|          1|8.744734|273.103271|134.227539|12.2222929|1.71847665|883.227051|     1|     2|     1|     1|       7|          2|          1|      0|3.69136119| 0.80927074|  961.8688|Inactive|       4|          2|          1|          1|          1|    2|7.76582956|63.7528839|1016.21381|24.8397846| 0.80953604|0.366594076|0.607752144|0.20990935|     2|     2|     1|     1|      12|          2|          1|158.773392|2.49895883|113.784927|3.20379E-4| Active| Active|Inactive|Inactive|Inactive| Active|       2|          1|          1|          1|\n",
      "+--------------------+----------+----------+------+--------+-----------+-----------+----------+--------+----------+----------+--------+--------+--------+--------+-----+--------+-----------+-----------+-----------+-----------+-----------+-----------+-----------+-----------+--------+----------+----------+----------+----------+----------+------+------+------+------+--------+-----------+-----------+-------+----------+-----------+----------+--------+--------+-----------+-----------+-----------+-----------+-----+----------+----------+----------+----------+-----------+-----------+-----------+----------+------+------+------+------+--------+-----------+-----------+----------+----------+----------+----------+-------+-------+--------+--------+--------+-------+--------+-----------+-----------+-----------+\n",
      "only showing top 5 rows\n",
      "\n"
     ]
    }
   ],
   "source": [
    "from pyspark.sql import SparkSession\n",
    "import pandas as pd\n",
    "spark = SparkSession.builder.appName(\"Test\").getOrCreate()\n",
    "df = pd.read_excel('SWaT_dataset_Jul 19 v2.xlsx', parse_dates = ['GMT +0'])\n",
    "sdf = spark.createDataFrame(df) \n",
    "sdf.show(5)"
   ]
  },
  {
   "cell_type": "code",
   "execution_count": 49,
   "id": "4e9fdf1c-0b77-4fe8-9d61-109c637d7e09",
   "metadata": {
    "tags": []
   },
   "outputs": [],
   "source": [
    "# import influxdb_client\n",
    "# from influxdb_client.client.write_api import SYNCHRONOUS\n",
    "\n",
    "# token = 'Qd6R1JJWOOKfcKmBn0s50wHLqA-2LjLjEGJiUAGp1_RCes_JRe_bkELLYL5jqCXRQ1Haww3_mrHk_69yN88L0A=='\n",
    "# org = 'ELTE'\n",
    "# bucket = 'ELTE'\n",
    "\n",
    "# with influxdb_client.InfluxDBClient(url=\"http://influxdb:8086\", token=token, org=org) as client:\n",
    "#     write_api = client.write_api(write_options=SYNCHRONOUS)\n",
    "#     dataCollect = sdf.collect()\n",
    "#     for row in dataCollect:\n",
    "#         p = influxdb_client.Point(\"swat_measure\").field('LIT 101', row['LIT 101'])\n",
    "#         write_api.write(bucket, org, p)\n",
    "    \n",
    "    "
   ]
  },
  {
   "cell_type": "code",
   "execution_count": null,
   "id": "8c9a9548-69e3-4557-b2c1-2d6e4ce7b7b1",
   "metadata": {},
   "outputs": [],
   "source": []
  },
  {
   "cell_type": "code",
   "execution_count": null,
   "id": "0cfdaaed-9caf-4ebb-95b7-5f21ed60b573",
   "metadata": {},
   "outputs": [],
   "source": []
  },
  {
   "cell_type": "markdown",
   "id": "99131d94-d121-4495-818c-71c1e2d45aa1",
   "metadata": {},
   "source": [
    "## Sending data to InfluxDB"
   ]
  },
  {
   "cell_type": "code",
   "execution_count": null,
   "id": "4426e39b-4890-4fa5-ba19-eb9ff18f507a",
   "metadata": {},
   "outputs": [],
   "source": [
    "import influxdb_client\n",
    "from influxdb_client.client.write_api import SYNCHRONOUS\n",
    "\n",
    "token = 'Qd6R1JJWOOKfcKmBn0s50wHLqA-2LjLjEGJiUAGp1_RCes_JRe_bkELLYL5jqCXRQ1Haww3_mrHk_69yN88L0A=='\n",
    "org = 'ELTE'\n",
    "bucket = 'ELTE'\n",
    "\n",
    "with influxdb_client.InfluxDBClient(url=\"http://influxdb:8086\", token=token, org=org) as client:\n",
    "    write_api = client.write_api(write_options=SYNCHRONOUS)\n",
    "    dataCollect = sdf.collect()\n",
    "    for row in dataCollect:\n",
    "        for col in sdf.columns[1:]:\n",
    "            p = influxdb_client.Point(\"swat_measure_2\").field(col, row[col])\n",
    "            write_api.write(bucket, org, p)    "
   ]
  },
  {
   "cell_type": "code",
   "execution_count": null,
   "id": "5134fbd9-6bce-4e90-84ff-17f3e53f7618",
   "metadata": {},
   "outputs": [],
   "source": []
  },
  {
   "cell_type": "code",
   "execution_count": null,
   "id": "c278178c-a782-4506-8f9a-3629f3a33778",
   "metadata": {},
   "outputs": [],
   "source": []
  }
 ],
 "metadata": {
  "kernelspec": {
   "display_name": "Python 3 (ipykernel)",
   "language": "python",
   "name": "python3"
  },
  "language_info": {
   "codemirror_mode": {
    "name": "ipython",
    "version": 3
   },
   "file_extension": ".py",
   "mimetype": "text/x-python",
   "name": "python",
   "nbconvert_exporter": "python",
   "pygments_lexer": "ipython3",
   "version": "3.8.8"
  },
  "vscode": {
   "interpreter": {
    "hash": "70fb475e75512df3a1d0cbc0eecfa61af87fb4f720b7a8a7826b0ea889bf7e75"
   }
  }
 },
 "nbformat": 4,
 "nbformat_minor": 5
}
