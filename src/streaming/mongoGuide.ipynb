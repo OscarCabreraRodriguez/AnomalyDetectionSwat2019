{
 "cells": [
  {
   "cell_type": "code",
   "execution_count": 1,
   "id": "780bd7f9-6cd6-4971-b518-106ee297b9fc",
   "metadata": {},
   "outputs": [
    {
     "name": "stdout",
     "output_type": "stream",
     "text": [
      "Requirement already satisfied: pymongo in /opt/conda/lib/python3.10/site-packages (4.3.3)\n",
      "Requirement already satisfied: dnspython<3.0.0,>=1.16.0 in /opt/conda/lib/python3.10/site-packages (from pymongo) (2.2.1)\n"
     ]
    }
   ],
   "source": [
    "!pip install pymongo"
   ]
  },
  {
   "cell_type": "markdown",
   "id": "5f99d747-7140-41e5-8c7a-4906f7d5c45c",
   "metadata": {
    "tags": []
   },
   "source": [
    "# Creating database mydatabase"
   ]
  },
  {
   "cell_type": "markdown",
   "id": "e5a22f5a-d6df-4b19-a061-6e5a50f5d3b4",
   "metadata": {
    "tags": []
   },
   "source": [
    "Assuming port 27017 no username no password"
   ]
  },
  {
   "cell_type": "code",
   "execution_count": 4,
   "id": "eaead38c-16b7-46e2-98a8-81fa14c999fa",
   "metadata": {},
   "outputs": [],
   "source": [
    "import pymongo\n",
    "\n",
    "myclient = pymongo.MongoClient(\"mongodb://mongo:27017/\")\n",
    "\n",
    "mydb = myclient[\"mydatabase\"]"
   ]
  },
  {
   "cell_type": "code",
   "execution_count": 6,
   "id": "61ece3ad-17ad-4979-8320-8c105de61609",
   "metadata": {},
   "outputs": [
    {
     "name": "stdout",
     "output_type": "stream",
     "text": [
      "['admin', 'config', 'local']\n"
     ]
    }
   ],
   "source": [
    "print(myclient.list_database_names())"
   ]
  },
  {
   "cell_type": "markdown",
   "id": "ce2f5643-fe03-4680-a9ab-eb1a30b9e8e8",
   "metadata": {},
   "source": [
    "# Create collection and insert data"
   ]
  },
  {
   "cell_type": "markdown",
   "id": "e0cf840e-f1cb-4cc6-8c45-fc81a22edcec",
   "metadata": {},
   "source": [
    "Inserting one element"
   ]
  },
  {
   "cell_type": "code",
   "execution_count": 7,
   "id": "14ff58ef-acc2-4419-8177-4615293b4ff8",
   "metadata": {},
   "outputs": [
    {
     "name": "stdout",
     "output_type": "stream",
     "text": [
      "6385e60e772cd7182a47355b\n"
     ]
    }
   ],
   "source": [
    "mycol = mydb[\"FIT 401\"]\n",
    "\n",
    "mydict = { \"t1\": \"3\", \"t2\": \"4\" }\n",
    "\n",
    "x = mycol.insert_one(mydict)\n",
    "\n",
    "print(x.inserted_id)"
   ]
  },
  {
   "cell_type": "markdown",
   "id": "9122fd9a-85ea-4107-93f7-5f7ef0af7513",
   "metadata": {},
   "source": [
    "Inserting several elements"
   ]
  },
  {
   "cell_type": "code",
   "execution_count": 8,
   "id": "23157282-9646-4c97-bd9e-f0df4f2737dc",
   "metadata": {},
   "outputs": [
    {
     "name": "stdout",
     "output_type": "stream",
     "text": [
      "[1, 2, 3, 4, 5, 6, 7, 8, 9, 10, 11, 12, 13, 14]\n"
     ]
    }
   ],
   "source": [
    "\n",
    "mylist = [\n",
    "  { \"_id\": 1, \"name\": \"John\", \"address\": \"Highway 37\"},\n",
    "  { \"_id\": 2, \"name\": \"Peter\", \"address\": \"Lowstreet 27\"},\n",
    "  { \"_id\": 3, \"name\": \"Amy\", \"address\": \"Apple st 652\"},\n",
    "  { \"_id\": 4, \"name\": \"Hannah\", \"address\": \"Mountain 21\"},\n",
    "  { \"_id\": 5, \"name\": \"Michael\", \"address\": \"Valley 345\"},\n",
    "  { \"_id\": 6, \"name\": \"Sandy\", \"address\": \"Ocean blvd 2\"},\n",
    "  { \"_id\": 7, \"name\": \"Betty\", \"address\": \"Green Grass 1\"},\n",
    "  { \"_id\": 8, \"name\": \"Richard\", \"address\": \"Sky st 331\"},\n",
    "  { \"_id\": 9, \"name\": \"Susan\", \"address\": \"One way 98\"},\n",
    "  { \"_id\": 10, \"name\": \"Vicky\", \"address\": \"Yellow Garden 2\"},\n",
    "  { \"_id\": 11, \"name\": \"Ben\", \"address\": \"Park Lane 38\"},\n",
    "  { \"_id\": 12, \"name\": \"William\", \"address\": \"Central st 954\"},\n",
    "  { \"_id\": 13, \"name\": \"Chuck\", \"address\": \"Main Road 989\"},\n",
    "  { \"_id\": 14, \"name\": \"Viola\", \"address\": \"Sideway 1633\"}\n",
    "]\n",
    "\n",
    "x = mycol.insert_many(mylist)\n",
    "\n",
    "#print list of the _id values of the inserted documents:\n",
    "print(x.inserted_ids)"
   ]
  },
  {
   "cell_type": "code",
   "execution_count": null,
   "id": "ffae1b28-cff0-4326-baaa-55a3a9b3c5be",
   "metadata": {},
   "outputs": [],
   "source": []
  }
 ],
 "metadata": {
  "kernelspec": {
   "display_name": "Python 3 (ipykernel)",
   "language": "python",
   "name": "python3"
  },
  "language_info": {
   "codemirror_mode": {
    "name": "ipython",
    "version": 3
   },
   "file_extension": ".py",
   "mimetype": "text/x-python",
   "name": "python",
   "nbconvert_exporter": "python",
   "pygments_lexer": "ipython3",
   "version": "3.10.6"
  }
 },
 "nbformat": 4,
 "nbformat_minor": 5
}
