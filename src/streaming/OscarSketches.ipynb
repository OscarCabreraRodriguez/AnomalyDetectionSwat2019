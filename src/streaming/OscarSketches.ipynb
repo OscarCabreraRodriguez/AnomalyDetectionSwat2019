{
 "cells": [
  {
   "cell_type": "code",
   "execution_count": 1,
   "id": "6d391d2c-0fc0-4f44-82a4-597409e63ab8",
   "metadata": {},
   "outputs": [
    {
     "name": "stdout",
     "output_type": "stream",
     "text": [
      "Requirement already satisfied: influxdb_client in /opt/conda/lib/python3.10/site-packages (1.34.0)\n",
      "Requirement already satisfied: influxdb in /opt/conda/lib/python3.10/site-packages (5.3.1)\n",
      "Requirement already satisfied: python-dateutil>=2.5.3 in /opt/conda/lib/python3.10/site-packages (from influxdb_client) (2.8.2)\n",
      "Requirement already satisfied: setuptools>=21.0.0 in /opt/conda/lib/python3.10/site-packages (from influxdb_client) (65.5.0)\n",
      "Requirement already satisfied: reactivex>=4.0.4 in /opt/conda/lib/python3.10/site-packages (from influxdb_client) (4.0.4)\n",
      "Requirement already satisfied: certifi>=14.05.14 in /opt/conda/lib/python3.10/site-packages (from influxdb_client) (2022.9.24)\n",
      "Requirement already satisfied: urllib3>=1.26.0 in /opt/conda/lib/python3.10/site-packages (from influxdb_client) (1.26.11)\n",
      "Requirement already satisfied: six>=1.10.0 in /opt/conda/lib/python3.10/site-packages (from influxdb) (1.16.0)\n",
      "Requirement already satisfied: pytz in /opt/conda/lib/python3.10/site-packages (from influxdb) (2022.6)\n",
      "Requirement already satisfied: requests>=2.17.0 in /opt/conda/lib/python3.10/site-packages (from influxdb) (2.28.1)\n",
      "Requirement already satisfied: msgpack in /opt/conda/lib/python3.10/site-packages (from influxdb) (1.0.4)\n",
      "Requirement already satisfied: typing-extensions<5.0.0,>=4.1.1 in /opt/conda/lib/python3.10/site-packages (from reactivex>=4.0.4->influxdb_client) (4.4.0)\n",
      "Requirement already satisfied: idna<4,>=2.5 in /opt/conda/lib/python3.10/site-packages (from requests>=2.17.0->influxdb) (3.4)\n",
      "Requirement already satisfied: charset-normalizer<3,>=2 in /opt/conda/lib/python3.10/site-packages (from requests>=2.17.0->influxdb) (2.1.1)\n"
     ]
    }
   ],
   "source": [
    "!pip install influxdb_client influxdb"
   ]
  },
  {
   "cell_type": "code",
   "execution_count": 2,
   "id": "636208be-1e2c-4711-8fbd-0ba96d27057b",
   "metadata": {},
   "outputs": [],
   "source": [
    "#First add kafka consumer to consume dataset"
   ]
  },
  {
   "cell_type": "code",
   "execution_count": 3,
   "id": "e780e395-3f34-432d-a6d6-3a8583790205",
   "metadata": {},
   "outputs": [
    {
     "name": "stderr",
     "output_type": "stream",
     "text": [
      "/usr/local/spark/python/pyspark/sql/pandas/conversion.py:474: FutureWarning: iteritems is deprecated and will be removed in a future version. Use .items instead.\n",
      "  for column, series in pdf.iteritems():\n",
      "/usr/local/spark/python/pyspark/sql/pandas/conversion.py:486: FutureWarning: iteritems is deprecated and will be removed in a future version. Use .items instead.\n",
      "  for column, series in pdf.iteritems():\n"
     ]
    },
    {
     "name": "stdout",
     "output_type": "stream",
     "text": [
      "+--------------------+-----------+----------+------+--------+-----------+-----------+----------+--------+----------+----------+--------+--------+--------+--------+-----+--------+-----------+-----------+-----------+-----------+-----------+-----------+-----------+-----------+--------+----------+----------+----------+----------+----------+------+------+------+------+--------+-----------+-----------+-------+----------+-----------+----------+--------+--------+-----------+-----------+-----------+-----------+-----+----------+----------+----------+----------+-----------+-----------+-----------+----------+------+------+------+------+--------+-----------+-----------+----------+----------+----------+----------+-------+-------+--------+--------+--------+-------+--------+-----------+-----------+-----------+\n",
      "|              GMT +0|    FIT 101|   LIT 101|MV 101|P1_STATE|P101 Status|P102 Status|   AIT 201| AIT 202|   AIT 203|   FIT 201|  LS 201|  LS 202| LSL 203|LSLL 203|MV201|P2_STATE|P201 Status|P202 Status|P203 Status|P204 Status|P205 Status|P206 Status|P207 Status|P208 Status| AIT 301|   AIT 302|   AIT 303|  DPIT 301|   FIT 301|   LIT 301|MV 301|MV 302|MV 303|MV 304|P3_STATE|P301 Status|P302 Status|AIT 401|   AIT 402|    FIT 401|   LIT 401|  LS 401|P4_STATE|P401 Status|P402 Status|P403 Status|P404 Status|UV401|   AIT 501|   AIT 502|   AIT 503|   AIT 504|    FIT 501|    FIT 502|    FIT 503|   FIT 504|MV 501|MV 502|MV 503|MV 504|P5_STATE|P501 Status|P502 Status|   PIT 501|   PIT 502|   PIT 503|   FIT 601|LSH 601|LSH 602| LSH 603| LSL 601| LSL 602|LSL 603|P6 STATE|P601 Status|P602 Status|P603 Status|\n",
      "+--------------------+-----------+----------+------+--------+-----------+-----------+----------+--------+----------+----------+--------+--------+--------+--------+-----+--------+-----------+-----------+-----------+-----------+-----------+-----------+-----------+-----------+--------+----------+----------+----------+----------+----------+------+------+------+------+--------+-----------+-----------+-------+----------+-----------+----------+--------+--------+-----------+-----------+-----------+-----------+-----+----------+----------+----------+----------+-----------+-----------+-----------+----------+------+------+------+------+--------+-----------+-----------+----------+----------+----------+----------+-------+-------+--------+--------+--------+-------+--------+-----------+-----------+-----------+\n",
      "|2019-07-20 08:39:...| 4.32373571|492.896881|     2|       2|          2|          1|131.408615|9.313829|257.933868|2.31365132|Inactive|Inactive|Inactive|Inactive|    2|       2|          1|          1|          2|          1|          2|          1|          1|          1|8.744734|273.103271|134.227539|12.2222929|1.71937346|   883.908|     1|     2|     1|     1|       7|          2|          1|      0|   3.74263|0.807990253|    962.83|Inactive|       4|          2|          1|          1|          1|    2|7.76582956|63.7528839|1016.21381|24.8397846|0.808126152|0.363007575|  0.6059598|0.20990935|     2|     2|     1|     1|      12|          2|          1|  158.8535|2.49895883|113.784927|3.20379E-4| Active| Active|Inactive|Inactive|Inactive| Active|       2|          1|          1|          1|\n",
      "|2019-07-20 08:39:...| 4.32373571|  492.4651|     2|       2|          2|          1|131.408615|9.316713|257.703156|2.31365132|Inactive|Inactive|Inactive|Inactive|    2|       2|          1|          1|          2|          1|          2|          1|          1|          1|8.744734|273.103271|134.227539|12.2222929|1.71937346|   883.908|     1|     2|     1|     1|       7|          2|          1|      0|   3.74263|  0.8086305|962.445557|Inactive|       4|          2|          1|          1|          1|    2|7.76582956|63.7528839|1016.21381|24.8397846| 0.80953604|0.357115418|  0.6059598|0.20990935|     2|     2|     1|     1|      12|          2|          1|  158.8535|2.49895883|113.784927|3.20379E-4| Active| Active|Inactive|Inactive|Inactive| Active|       2|          1|          1|          1|\n",
      "|2019-07-20 08:39:...| 4.30355835|  492.3081|     2|       2|          2|          1|131.408615|9.317354|257.703156|2.31365132|Inactive|Inactive|Inactive|Inactive|    2|       2|          1|          1|          2|          1|          2|          1|          1|          1|8.744734|273.103271|134.227539|12.2222929|1.71937346|883.387268|     1|     2|     1|     1|       7|          2|          1|      0|   3.74263| 0.80927074|962.637756|Inactive|       4|          2|          1|          1|          1|    2|7.76582956|63.7528839|1016.21381|24.8397846| 0.80953604|0.369155884|  0.6059598|0.20990935|     2|     2|     1|     1|      12|          2|          1|  158.8535|2.49895883|113.784927|3.20379E-4| Active| Active|Inactive|Inactive|Inactive| Active|       2|          1|          1|          1|\n",
      "|2019-07-20 08:39:...| 4.25391531|491.405273|     2|       2|          2|          1|131.408615|9.317354|257.703156|2.31429219|Inactive|Inactive|Inactive|Inactive|    2|       2|          1|          1|          2|          1|          2|          1|          1|          1|8.744734|273.103271|134.227539|12.2222929|1.71937346|883.227051|     1|     2|     1|     1|       7|          2|          1|      0|   3.74263| 0.80927074|962.137939|Inactive|       4|          2|          1|          1|          1|    2|7.76582956|63.7528839|1016.21381|24.8397846| 0.80953604|0.374023318|  0.6059598|0.20990935|     2|     2|     1|     1|      12|          2|          1|158.805435|2.49895883|113.784927|3.20379E-4| Active| Active|Inactive|Inactive|Inactive| Active|       2|          1|          1|          1|\n",
      "|2019-07-20 08:39:...|   4.200429|491.169769|     2|       2|          2|          1|131.408615|9.319918|257.703156|2.31608629|Inactive|Inactive|Inactive|Inactive|    2|       2|          1|          1|          2|          1|          2|          1|          1|          1|8.744734|273.103271|134.227539|12.2222929|1.71847665|883.227051|     1|     2|     1|     1|       7|          2|          1|      0|3.69136119| 0.80927074|  961.8688|Inactive|       4|          2|          1|          1|          1|    2|7.76582956|63.7528839|1016.21381|24.8397846| 0.80953604|0.366594076|0.607752144|0.20990935|     2|     2|     1|     1|      12|          2|          1|158.773392|2.49895883|113.784927|3.20379E-4| Active| Active|Inactive|Inactive|Inactive| Active|       2|          1|          1|          1|\n",
      "|2019-07-20 08:39:...| 4.10915041|491.169769|     2|       2|          2|          1|131.408615|9.321199|257.703156|2.31608629|Inactive|Inactive|Inactive|Inactive|    2|       2|          1|          1|          2|          1|          2|          1|          1|          1|8.744734|273.103271|134.195526|12.2222929| 1.7168113|883.227051|     1|     2|     1|     1|       7|          2|          1|      0|3.48628569| 0.80927074|  961.1382|Inactive|       4|          2|          1|          1|          1|    2|7.76582956|63.7528839|1016.21381|24.8397846| 0.80953604|0.366594076|0.607752144|0.20990935|     2|     2|     1|     1|      12|          2|          1|158.773392|2.49895883|113.784927|3.20379E-4| Active| Active|Inactive|Inactive|Inactive| Active|       2|          1|          1|          1|\n",
      "|2019-07-20 08:39:...|  3.9550972|491.169769|     2|       2|          2|          1|131.408615|9.321199|257.703156|2.31800842|Inactive|Inactive|Inactive|Inactive|    2|       2|          1|          1|          2|          1|          2|          1|          1|          1|8.744734|272.949615|134.195526|12.2222929| 1.7168113|883.227051|     1|     2|     1|     1|       7|          2|          1|      0|3.48628569| 0.80927074|   960.869|Inactive|       4|          2|          1|          1|          1|    2|7.76582956|63.7528839|1016.21381|24.8397846| 0.80953604|0.366594076|0.607752144|0.20990935|     2|     2|     1|     1|      12|          2|          1|158.773392|2.49895883|113.784927|3.20379E-4| Active| Active|Inactive|Inactive|Inactive| Active|       2|          1|          1|          1|\n",
      "|2019-07-20 08:39:...|   3.720975|  491.2875|     2|       2|          2|          1|131.408615|9.321199|257.703156|2.31852126|Inactive|Inactive|Inactive|Inactive|    2|       2|          1|          1|          2|          1|          2|          1|          1|          1|8.744734|272.949615|134.195526|12.1934824|1.71565819|   882.426|     1|     2|     1|     1|       7|          2|          1|      0|3.71699572|  0.8069659|  960.4845|Inactive|       4|          2|          1|          1|          1|    2|7.76582956|63.7528839|1016.21381|24.8397846| 0.80953604|0.366594076|0.607752144|0.20990935|     2|     2|     1|     1|      12|          2|          1|158.773392|2.49895883|  113.6888|3.20379E-4| Active| Active|Inactive|Inactive|Inactive| Active|       2|          1|          1|          1|\n",
      "|2019-07-20 08:39:...|   3.433046|491.326782|     2|       2|          2|          1|131.536789| 9.32184|257.703156|2.31980276|Inactive|Inactive|Inactive|Inactive|    2|       2|          1|          1|          2|          1|          2|          1|          1|          1|8.744734|272.949615|134.195526|12.1934824|1.71565819|   882.426|     1|     2|     1|     1|       7|          2|          1|      0|3.71699572|  0.8069659|960.369141|Inactive|       4|          2|          1|          1|          1|    2|7.76582956|63.7528839|1016.21381|24.8397846| 0.80953604|0.366594076|0.607752144|0.20990935|     2|     2|     1|     1|      12|          2|          1|158.773392|2.49895883|  113.6888|3.20379E-4| Active| Active|Inactive|Inactive|Inactive| Active|       2|          1|          1|          1|\n",
      "|2019-07-20 08:39:...|  3.0576818|491.405273|     2|       2|          2|          1|131.536789|9.323122|257.703156|2.31980276|Inactive|Inactive|Inactive|Inactive|    2|       2|          1|          1|          2|          1|          2|          1|          1|          1|8.744734|272.949615|134.195526|12.1934824|  1.714249|   882.426|     1|     2|     1|     1|       7|          2|          1|      0|3.71699572|  0.8069659|  959.8308|Inactive|       4|          2|          1|          1|          1|    2|7.76582956|63.7528839|1016.21381|24.8397846| 0.80953604|0.365953624|0.607752144|0.20990935|     2|     2|     1|     1|      12|          2|          1|158.773392|2.49895883|113.608688|3.20379E-4| Active| Active|Inactive|Inactive|Inactive| Active|       2|          1|          1|          1|\n",
      "|2019-07-20 08:39:...| 2.60993481|491.680054|     2|       2|          2|          1|131.536789|9.323122|257.574982|2.31980276|Inactive|Inactive|Inactive|Inactive|    2|       2|          1|          1|          2|          1|          2|          1|          1|          1|8.744734|272.949615|134.195526|12.1934824|  1.714249|881.624939|     1|     2|     1|     1|       7|          2|          1|      0|3.71699572|0.808758557|  959.3694|Inactive|       4|          2|          1|          1|          1|    2|7.76582956|  63.72725|1016.21381|24.8397846|0.808126152|  0.3627514|  0.6076241|0.20990935|     2|     2|     1|     1|      12|          2|          1|158.805435|2.49895883|113.608688|3.20379E-4| Active| Active|Inactive|Inactive|Inactive| Active|       2|          1|          1|          1|\n",
      "|2019-07-20 08:39:...| 2.06290221|491.601532|     2|       2|          2|          1|131.536789|9.323122|257.344269|2.31980276|Inactive|Inactive|Inactive|Inactive|    2|       2|          1|          1|          2|          1|          2|          1|          1|          1|8.744734|272.949615|134.195526|12.1934824|  1.714249|  881.4247|     1|     2|     1|     1|       7|          2|          1|      0| 3.5375545|0.808758557|   959.254|Inactive|       4|          2|          1|          1|          1|    2|7.76582956|63.5734444|1016.21381|24.8397846|0.808126152|0.355706424|0.606343865|0.20990935|     2|     2|     1|     1|      12|          2|          1|  158.8535|2.49895883|113.608688|3.20379E-4| Active| Active|Inactive|Inactive|Inactive| Active|       2|          1|          1|          1|\n",
      "|2019-07-20 08:39:...|   1.506902|  492.1511|     2|       2|          2|          1|131.536789|9.323122|257.344269|2.31980276|Inactive|Inactive|Inactive|Inactive|    2|       2|          1|          1|          2|          1|          2|          1|          1|          1|8.744734|272.949615|134.195526|12.1934824| 1.7133522|  880.7037|     1|     2|     1|     1|       7|          2|          1|      0| 3.5375545|0.807350039|  958.9464|Inactive|       4|          2|          1|          1|          1|    2|7.76582956|63.5734444|1016.21381|24.8397846|0.808126152|  0.3599334|0.606343865|0.20990935|     2|     2|     1|     1|      12|          2|          1|  158.8535|2.49895883|113.608688|3.20379E-4| Active| Active|Inactive|Inactive|Inactive| Active|       2|          1|          1|          1|\n",
      "|2019-07-20 08:39:...|  0.9925375|  493.4857|     0|       2|          2|          1|131.536789|9.323122|257.344269|2.31980276|Inactive|Inactive|Inactive|Inactive|    2|       2|          1|          1|          2|          1|          2|          1|          1|          1|8.744734|272.949615|134.195526|12.1934824| 1.7133522|  880.5835|     1|     2|     1|     1|       7|          2|          1|      0| 3.5375545|  0.8056854|  958.4081|Inactive|       4|          2|          1|          1|          1|    2|7.76582956|63.5221748|1016.21381|24.8397846|0.808126152|0.365697443|0.606343865|0.20990935|     2|     2|     1|     1|      12|          2|          1|158.645218|2.49895883|113.608688|3.20379E-4| Active| Active|Inactive|Inactive|Inactive| Active|       2|          1|          1|          1|\n",
      "|2019-07-20 08:39:...|0.560804546| 493.91745|     0|       2|          2|          1|131.536789|9.323122|257.344269|2.31980276|Inactive|Inactive|Inactive|Inactive|    2|       2|          1|          1|          2|          1|          2|          1|          1|          1|8.744734|272.949615|134.195526|12.1934824| 1.7145052|  879.0214|     1|     2|     1|     1|       7|          2|          1|      0|3.69136119|  0.8056854|  958.3696|Inactive|       4|          2|          1|          1|          1|    2|7.76582956|63.5221748|1016.21381|24.8397846|0.808126152|0.356731147|0.606343865|0.20990935|     2|     2|     1|     1|      12|          2|          1|158.645218|2.49895883|113.608688|3.20379E-4| Active| Active|Inactive|Inactive|Inactive| Active|       2|          1|          1|          1|\n",
      "|2019-07-20 08:39:...|  0.2555808|494.309967|     0|       2|          2|          1|131.536789|9.323122|257.344269|2.31890559|Inactive|Inactive|Inactive|Inactive|    2|       2|          1|          1|          2|          1|          2|          1|          1|          1|8.744734|272.949615|134.291565|12.1934824|1.71578634|  879.0214|     1|     2|     1|     1|       7|          2|          1|      0|3.71699572|  0.8056854|  957.8313|Inactive|       4|          2|          1|          1|          1|    2|7.76582956|63.4709053|1016.21381|24.8397846|0.808126152| 0.35442552|0.606343865|0.20990935|     2|     2|     1|     1|      12|          2|          1|158.645218|2.49895883| 113.62471|3.20379E-4| Active| Active|Inactive|Inactive|Inactive| Active|       2|          1|          1|          1|\n",
      "|2019-07-20 08:39:...| 0.06853922|494.820282|     0|       2|          2|          1|131.536789|9.323122|257.344269|2.31698322|Inactive|Inactive|Inactive|Inactive|    2|       2|          1|          1|          2|          1|          2|          1|          1|          1|8.744734|272.949615|134.291565|12.1934824|  1.718733|  879.0214|     1|     2|     1|     1|       7|          2|          1|      0|3.71699572|  0.8077342|  957.4084|Inactive|       4|          2|          1|          1|          1|    2|7.76582956|63.4709053|1016.21381|24.8397846|0.808126152|0.346355855|0.606343865|0.20990935|     2|     2|     1|     1|      12|          2|          1|158.645218|2.49895883|113.704819|3.20379E-4| Active| Active|Inactive|Inactive|Inactive| Active|       2|          1|          1|          1|\n",
      "|2019-07-20 08:39:...|        0.0|494.859528|     0|       2|          2|          1|131.536789|9.323122|257.344269|2.31698322|Inactive|Inactive|Inactive|Inactive|    2|       2|          1|          1|          2|          1|          2|          1|          1|          1|8.744734|272.949615|134.291565|12.2382994|  1.718733|  879.0214|     1|     2|     1|     1|       7|          2|          1|      0|3.71699572|0.809526861|  956.9854|Inactive|       4|          2|          1|          1|          1|    2|7.76807261|63.4709053|1016.21381|24.8397846|0.808126152|0.346355855|0.606343865|0.20990935|     2|     2|     1|     1|      12|          2|          1|158.645218|2.49895883|113.704819|3.20379E-4| Active| Active|Inactive|Inactive|Inactive| Active|       2|          1|          1|          1|\n",
      "|2019-07-20 08:39:...|        0.0|496.154846|     0|       2|          2|          1|131.536789|9.323122|   257.293|2.31698322|Inactive|Inactive|Inactive|Inactive|    2|       2|          1|          1|          2|          1|          2|          1|          1|          1|8.744734|272.949615|134.291565|12.2382994|  1.718733|  879.0214|     1|     2|     1|     1|       7|          2|          1|      0| 3.5375545|0.809526861|956.793152|Inactive|       4|          2|          1|          1|          1|    2|  7.768393|63.4709053|1016.21381|24.8397846|0.808126152|0.346355855|0.606343865|0.20990935|     2|     2|     1|     1|      12|          2|          1|158.645218|2.49895883|113.704819|3.20379E-4| Active| Active|Inactive|Inactive|Inactive| Active|       2|          1|          1|          1|\n",
      "|2019-07-20 08:39:...|        0.0|496.665161|     0|       2|          2|          1|131.536789|9.323122|257.087921|2.31698322|Inactive|Inactive|Inactive|Inactive|    2|       2|          1|          1|          2|          1|          2|          1|          1|          1|8.744734|   272.924|134.291565|12.2382994|  1.718733|  879.0214|     1|     2|     1|     1|       7|          2|          1|      0| 3.5375545|0.809526861|  956.6778|Inactive|       4|          2|          1|          1|          1|    2|  7.768393|63.4709053|1016.21381|24.8397846|0.808126152|  0.3585244|0.606343865|0.20990935|     2|     2|     1|     1|      12|          2|          1|158.645218|2.49895883|113.704819|3.20379E-4| Active| Active|Inactive|Inactive|Inactive| Active|       2|          1|          1|          1|\n",
      "+--------------------+-----------+----------+------+--------+-----------+-----------+----------+--------+----------+----------+--------+--------+--------+--------+-----+--------+-----------+-----------+-----------+-----------+-----------+-----------+-----------+-----------+--------+----------+----------+----------+----------+----------+------+------+------+------+--------+-----------+-----------+-------+----------+-----------+----------+--------+--------+-----------+-----------+-----------+-----------+-----+----------+----------+----------+----------+-----------+-----------+-----------+----------+------+------+------+------+--------+-----------+-----------+----------+----------+----------+----------+-------+-------+--------+--------+--------+-------+--------+-----------+-----------+-----------+\n",
      "only showing top 20 rows\n",
      "\n"
     ]
    }
   ],
   "source": [
    "from pyspark.sql import SparkSession\n",
    "import pandas as pd\n",
    "spark = SparkSession.builder.appName(\"Test\").getOrCreate()\n",
    "df = pd.read_excel('SWaT_dataset_Jul 19 v2.xlsx', parse_dates = ['GMT +0']) #remove later\n",
    "sdf = spark.createDataFrame(df)\n",
    "sdf.show()"
   ]
  },
  {
   "cell_type": "markdown",
   "id": "1eb560ba-080d-4a4c-9651-4738254454d7",
   "metadata": {},
   "source": [
    "## Reservoir Sampling"
   ]
  },
  {
   "cell_type": "code",
   "execution_count": 8,
   "id": "f0266917-5539-4074-8dcb-55250a175549",
   "metadata": {},
   "outputs": [],
   "source": [
    "import numpy as np\n",
    "import random\n",
    "    \n",
    "class ReservoirSampling:\n",
    "    def __init__(self, size):\n",
    "        self.arr = np.zeros(size)\n",
    "        self.count = 0\n",
    "    def update(self,elem):\n",
    "        # if counter less than the pool size we add this element in the first free position \n",
    "        if self.count < len(self.arr):\n",
    "            for i in range(len(self.arr)):\n",
    "                if self.arr[i]==0:\n",
    "                    self.arr[i] = elem\n",
    "                    self.count += 1\n",
    "        # it counter >= pool size then we have to apply update algorithm\n",
    "        r = random.randint(0, self.count-1)\n",
    "        if r < len(self.arr):\n",
    "            self.arr[r]=elem\n",
    "        self.count += 1\n",
    "    \n",
    "    def ret(self):\n",
    "        return self.arr"
   ]
  },
  {
   "cell_type": "code",
   "execution_count": 9,
   "id": "ee019b7d-04fb-4754-8112-bbc19b8272b8",
   "metadata": {},
   "outputs": [],
   "source": [
    "import influxdb_client\n",
    "from influxdb_client.client.write_api import SYNCHRONOUS\n",
    "\n",
    "attack1 = np.array(sdf.select(\"FIT 401\").collect())\n",
    "sampling1 = ReservoirSampling(20)\n",
    "\n",
    "for elem in attack1:\n",
    "    sampling1.update(elem)\n",
    "samples=sampling1.ret()\n",
    "\n",
    "token = \"i4mHlTHGTjH0nK974IYaZJztxhOdhwPhmcdYvZTVom05ZyrsJqwNLT3_6EUWPwi97nCG0oNx2QjMTlRapn5Q1g==\"\n",
    "org = \"changeme\"\n",
    "bucket = \"freq\"\n",
    "\n",
    "with influxdb_client.InfluxDBClient(url=\"http://influxdb:8086\", token=token, org=org) as client:\n",
    "    write_api = client.write_api(write_options=SYNCHRONOUS)\n",
    "    dataCollect = sdf.collect()\n",
    "    for elem in samples:\n",
    "        p = influxdb_client.Point(\"samplingFIT401\").field(str(elem), elem)\n",
    "        write_api.write(bucket, org, p)    \n",
    "            \n",
    "            \n"
   ]
  },
  {
   "cell_type": "markdown",
   "id": "23a9645b-d7b7-40ed-ba18-4e6bd3b51c54",
   "metadata": {},
   "source": [
    "## Misra Gries Algorithm\n",
    "Finding frequent items determinastically. Given a bag b of n elements and an integer k ≥ 2. Find the values that occur more than n ÷ k times in b"
   ]
  },
  {
   "cell_type": "code",
   "execution_count": 10,
   "id": "a264fd69-aa04-4d5c-a1e4-b7bfffd0fa1c",
   "metadata": {},
   "outputs": [],
   "source": [
    "from collections import Counter\n",
    "def misra(arr, k):\n",
    "    dic = {}\n",
    "    for elem in arr:\n",
    "        ## case 1: item already has counter or there are empty counters\n",
    "        if elem in dic:\n",
    "            dic[round(elem, 7)] +=1\n",
    "        elif len(dic)<k:\n",
    "            dic[round(elem, 7) ] = 1\n",
    "        ## case 2: item doesn't have counter and there are no empty counters\n",
    "        else:\n",
    "            for key in list(dic.keys()):\n",
    "                dic[round(key, 7)] -= 1\n",
    "                if dic[round(key, 7)] == 0:\n",
    "                    del dic[round(key, 7)]\n",
    "    return dic\n",
    "\n"
   ]
  },
  {
   "cell_type": "code",
   "execution_count": 11,
   "id": "8e070876-9d2c-4fc0-8ed0-fbff0aa346ba",
   "metadata": {},
   "outputs": [],
   "source": [
    "attack1 = np.array(sdf.select(\"FIT 401\").collect())\n",
    "flat_list = [item for sublist in attack1 for item in sublist]"
   ]
  },
  {
   "cell_type": "code",
   "execution_count": 12,
   "id": "7d519860-028f-442c-a062-6847411c0a2f",
   "metadata": {},
   "outputs": [],
   "source": [
    "data = misra(flat_list,15)"
   ]
  },
  {
   "cell_type": "code",
   "execution_count": null,
   "id": "6fe70ef2-68a4-4c03-a400-bb63a3b79d31",
   "metadata": {},
   "outputs": [],
   "source": [
    "import influxdb_client\n",
    "from influxdb_client.client.write_api import SYNCHRONOUS\n",
    "\n",
    "token = \"i4mHlTHGTjH0nK974IYaZJztxhOdhwPhmcdYvZTVom05ZyrsJqwNLT3_6EUWPwi97nCG0oNx2QjMTlRapn5Q1g==\"\n",
    "org = \"changeme\"\n",
    "bucket = \"freq\"\n",
    "\n",
    "with influxdb_client.InfluxDBClient(url=\"http://influxdb:8086\", token=token, org=org) as client:\n",
    "    write_api = client.write_api(write_options=SYNCHRONOUS)\n",
    "    dataCollect = sdf.collect()\n",
    "    for row in dataCollect:\n",
    "        for key in data:\n",
    "            p = influxdb_client.Point(\"freqFIT401\").field(key, data[key])\n",
    "            write_api.write(bucket, org, p)    \n",
    "            \n",
    "            \n"
   ]
  },
  {
   "cell_type": "markdown",
   "id": "93b76aa7-2ca9-4d01-b626-13f79ad79dfd",
   "metadata": {},
   "source": [
    "# BJKST Algorithm\n",
    "Count distinct elements"
   ]
  },
  {
   "cell_type": "code",
   "execution_count": null,
   "id": "a2883c88-8099-4133-9071-5cafb27dba16",
   "metadata": {},
   "outputs": [],
   "source": [
    "import math\n",
    "class BJKST:\n",
    "    def __init__(self, n, eps, c):\n",
    "        self.h = UniversalHash(n)\n",
    "        self.g = UniversalHash(int(math.log(n, 2)**2 * eps**(-4)))\n",
    "        self.z = 0\n",
    "        self.b = []\n",
    "        self.eps = eps \n",
    "        self.c = c\n",
    "    def update(self,elem):\n",
    "        # if counter less than the pool size we add this element in the first free position \n",
    "        nzeros = np.count_nonzero(self.h.hash(elem)==0)\n",
    "        if nzeros >= self.z:\n",
    "            self.b.append([self.g.hash(elem) , nzeros])\n",
    "        while len(self.b) >= self.c/self.eps**2:\n",
    "            self.z += 1\n",
    "            for i in self.b:\n",
    "                if i[1] < self.z:\n",
    "                    self.b.remove(i)\n",
    "                    \n",
    "    def ret(self):\n",
    "        return len(self.b)*2**self.z\n",
    "\n",
    "class UniversalHash:\n",
    "\n",
    "    def __init__(self, space):\n",
    "        self.random = random.Random()\n",
    "        self.random.seed()\n",
    "        self.space = space\n",
    "    \n",
    "    def hash(self,key):\n",
    "        key = -(key + 1) if key < 0 else key\n",
    "        return hash(key.__str__()) % self.space\n",
    "    "
   ]
  },
  {
   "cell_type": "code",
   "execution_count": null,
   "id": "1023b017-cb0b-4468-b0b8-b2812f8c73fa",
   "metadata": {},
   "outputs": [],
   "source": [
    "import influxdb_client\n",
    "from influxdb_client.client.write_api import SYNCHRONOUS\n",
    "\n",
    "token = \"i4mHlTHGTjH0nK974IYaZJztxhOdhwPhmcdYvZTVom05ZyrsJqwNLT3_6EUWPwi97nCG0oNx2QjMTlRapn5Q1g==\"\n",
    "org = \"changeme\"\n",
    "bucket = \"freq\"\n",
    "\n",
    "bjkst1 = BJKST(20,1,3)\n",
    "attack1 = np.array(sdf.select(\"FIT 401\").collect())\n",
    "flat_list = [item for sublist in attack1 for item in sublist]\n",
    "\n",
    "with influxdb_client.InfluxDBClient(url=\"http://influxdb:8086\", token=token, org=org) as client:\n",
    "    write_api = client.write_api(write_options=SYNCHRONOUS)\n",
    "    dataCollect = sdf.collect()\n",
    "    for i in flat_list:\n",
    "        bjkst1.update(i)\n",
    "        val = bjkst1.ret()\n",
    "        p = influxdb_client.Point(\"difcountFIT401\").field(str(val), val)\n",
    "        write_api.write(bucket, org, p)    "
   ]
  },
  {
   "cell_type": "code",
   "execution_count": null,
   "id": "1dd81912-b34d-48d6-b326-1e86418a14f0",
   "metadata": {},
   "outputs": [],
   "source": [
    "\"\"\"\n",
    "def wingraphminer(stream, batch, windowsize, support):\n",
    "    g = []\n",
    "    q = []\n",
    "    window = []\n",
    "    R= []\n",
    "    for i in range(0,len(stream),batch):\n",
    "        data = stream[i:batch]\n",
    "        c = coreset(data,support)\n",
    "        window.append(c)\n",
    "        if len(window) >= windowsize:\n",
    "            R = window[0]\n",
    "        else:\n",
    "            R = []\n",
    "\n",
    "def coreset(batch,support):\n",
    "    ADS\n",
    "\"\"\"             "
   ]
  }
 ],
 "metadata": {
  "kernelspec": {
   "display_name": "Python 3 (ipykernel)",
   "language": "python",
   "name": "python3"
  },
  "language_info": {
   "codemirror_mode": {
    "name": "ipython",
    "version": 3
   },
   "file_extension": ".py",
   "mimetype": "text/x-python",
   "name": "python",
   "nbconvert_exporter": "python",
   "pygments_lexer": "ipython3",
   "version": "3.10.6"
  }
 },
 "nbformat": 4,
 "nbformat_minor": 5
}
